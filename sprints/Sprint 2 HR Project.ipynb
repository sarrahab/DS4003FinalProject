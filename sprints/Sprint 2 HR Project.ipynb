{
 "cells": [
  {
   "cell_type": "markdown",
   "metadata": {},
   "source": [
    "## Human Resources & Diversity\n",
    "##### Sprint 2, Sarrah Abdulali, 3/15/2024"
   ]
  },
  {
   "cell_type": "markdown",
   "metadata": {},
   "source": [
    "#### Why this data, and data provenance\n",
    "\n",
    "In my summer consulting internship at Kearney, I was put on the diversity, equity, and inclusion team (which consisted of just me and one manager). In my role as Business Analyst Intern, I was in charge of helping track key statistics such as attrition, utilization, new hires and current headcount, all while keeping in mind diversity goals for the year. I enjoyed creating a PowerBI dashboard where there could be filters for demographics within the firm in real-time, and so I wanted to bring that experience into this project because I enjoyed this topic of data analysis since it is as connected to the real-world as possible. This context is critical as it frames the dataset's relevance to real-world organizational studies on diversity and inclusion, making it a valuable resource for understanding and promoting equitable workplace practices.\n",
    "\n",
    " This dataset from [Kaggle](https://www.kaggle.com/datasets/rhuebner/human-resources-data-set/data) is rich in variables and observations, and allows for analysis on many different facets of Human Resources (HR) work. Variables such as age, gender, marital status, date of hire, whether they are active or terminated, department, position title, pay rate, manager name, and performance score will guide my analysis and decision-making for future visuals.\n",
    "\n",
    "This dataset was created by Dr. Richard Huebner and Dr. Carla Patalano from the New England College of Business over 10 years ago, and was used for the HR Metrics and Analytics course to teach HR students how to use and analyze the data in Tableau Desktop. It was updated 3 years ago to include more variables such as absences, performance review dates, and employee engagement scores. It is synthetic by nature; data was collected from a series of other databases, including ADP, HRIS, and other sources. They try to maintain and update the dataset yearly."
   ]
  },
  {
   "cell_type": "markdown",
   "metadata": {},
   "source": [
    "#### Data Cleaning"
   ]
  },
  {
   "cell_type": "code",
   "execution_count": 74,
   "metadata": {},
   "outputs": [],
   "source": [
    "# import dependencies\n",
    "from dash import Dash, dcc, html, Input, Output, callback\n",
    "import pandas as pd\n",
    "import plotly.express as px"
   ]
  },
  {
   "cell_type": "code",
   "execution_count": 75,
   "metadata": {},
   "outputs": [
    {
     "data": {
      "text/html": [
       "<div>\n",
       "<style scoped>\n",
       "    .dataframe tbody tr th:only-of-type {\n",
       "        vertical-align: middle;\n",
       "    }\n",
       "\n",
       "    .dataframe tbody tr th {\n",
       "        vertical-align: top;\n",
       "    }\n",
       "\n",
       "    .dataframe thead th {\n",
       "        text-align: right;\n",
       "    }\n",
       "</style>\n",
       "<table border=\"1\" class=\"dataframe\">\n",
       "  <thead>\n",
       "    <tr style=\"text-align: right;\">\n",
       "      <th></th>\n",
       "      <th>Employee_Name</th>\n",
       "      <th>EmpID</th>\n",
       "      <th>MarriedID</th>\n",
       "      <th>MaritalStatusID</th>\n",
       "      <th>GenderID</th>\n",
       "      <th>EmpStatusID</th>\n",
       "      <th>DeptID</th>\n",
       "      <th>PerfScoreID</th>\n",
       "      <th>FromDiversityJobFairID</th>\n",
       "      <th>Salary</th>\n",
       "      <th>...</th>\n",
       "      <th>ManagerName</th>\n",
       "      <th>ManagerID</th>\n",
       "      <th>RecruitmentSource</th>\n",
       "      <th>PerformanceScore</th>\n",
       "      <th>EngagementSurvey</th>\n",
       "      <th>EmpSatisfaction</th>\n",
       "      <th>SpecialProjectsCount</th>\n",
       "      <th>LastPerformanceReview_Date</th>\n",
       "      <th>DaysLateLast30</th>\n",
       "      <th>Absences</th>\n",
       "    </tr>\n",
       "  </thead>\n",
       "  <tbody>\n",
       "    <tr>\n",
       "      <th>0</th>\n",
       "      <td>Adinolfi, Wilson  K</td>\n",
       "      <td>10026</td>\n",
       "      <td>0</td>\n",
       "      <td>0</td>\n",
       "      <td>1</td>\n",
       "      <td>1</td>\n",
       "      <td>5</td>\n",
       "      <td>4</td>\n",
       "      <td>0</td>\n",
       "      <td>62506</td>\n",
       "      <td>...</td>\n",
       "      <td>Michael Albert</td>\n",
       "      <td>22.0</td>\n",
       "      <td>LinkedIn</td>\n",
       "      <td>Exceeds</td>\n",
       "      <td>4.60</td>\n",
       "      <td>5</td>\n",
       "      <td>0</td>\n",
       "      <td>1/17/2019</td>\n",
       "      <td>0</td>\n",
       "      <td>1</td>\n",
       "    </tr>\n",
       "    <tr>\n",
       "      <th>1</th>\n",
       "      <td>Ait Sidi, Karthikeyan</td>\n",
       "      <td>10084</td>\n",
       "      <td>1</td>\n",
       "      <td>1</td>\n",
       "      <td>1</td>\n",
       "      <td>5</td>\n",
       "      <td>3</td>\n",
       "      <td>3</td>\n",
       "      <td>0</td>\n",
       "      <td>104437</td>\n",
       "      <td>...</td>\n",
       "      <td>Simon Roup</td>\n",
       "      <td>4.0</td>\n",
       "      <td>Indeed</td>\n",
       "      <td>Fully Meets</td>\n",
       "      <td>4.96</td>\n",
       "      <td>3</td>\n",
       "      <td>6</td>\n",
       "      <td>2/24/2016</td>\n",
       "      <td>0</td>\n",
       "      <td>17</td>\n",
       "    </tr>\n",
       "    <tr>\n",
       "      <th>2</th>\n",
       "      <td>Akinkuolie, Sarah</td>\n",
       "      <td>10196</td>\n",
       "      <td>1</td>\n",
       "      <td>1</td>\n",
       "      <td>0</td>\n",
       "      <td>5</td>\n",
       "      <td>5</td>\n",
       "      <td>3</td>\n",
       "      <td>0</td>\n",
       "      <td>64955</td>\n",
       "      <td>...</td>\n",
       "      <td>Kissy Sullivan</td>\n",
       "      <td>20.0</td>\n",
       "      <td>LinkedIn</td>\n",
       "      <td>Fully Meets</td>\n",
       "      <td>3.02</td>\n",
       "      <td>3</td>\n",
       "      <td>0</td>\n",
       "      <td>5/15/2012</td>\n",
       "      <td>0</td>\n",
       "      <td>3</td>\n",
       "    </tr>\n",
       "    <tr>\n",
       "      <th>3</th>\n",
       "      <td>Alagbe,Trina</td>\n",
       "      <td>10088</td>\n",
       "      <td>1</td>\n",
       "      <td>1</td>\n",
       "      <td>0</td>\n",
       "      <td>1</td>\n",
       "      <td>5</td>\n",
       "      <td>3</td>\n",
       "      <td>0</td>\n",
       "      <td>64991</td>\n",
       "      <td>...</td>\n",
       "      <td>Elijiah Gray</td>\n",
       "      <td>16.0</td>\n",
       "      <td>Indeed</td>\n",
       "      <td>Fully Meets</td>\n",
       "      <td>4.84</td>\n",
       "      <td>5</td>\n",
       "      <td>0</td>\n",
       "      <td>1/3/2019</td>\n",
       "      <td>0</td>\n",
       "      <td>15</td>\n",
       "    </tr>\n",
       "    <tr>\n",
       "      <th>4</th>\n",
       "      <td>Anderson, Carol</td>\n",
       "      <td>10069</td>\n",
       "      <td>0</td>\n",
       "      <td>2</td>\n",
       "      <td>0</td>\n",
       "      <td>5</td>\n",
       "      <td>5</td>\n",
       "      <td>3</td>\n",
       "      <td>0</td>\n",
       "      <td>50825</td>\n",
       "      <td>...</td>\n",
       "      <td>Webster Butler</td>\n",
       "      <td>39.0</td>\n",
       "      <td>Google Search</td>\n",
       "      <td>Fully Meets</td>\n",
       "      <td>5.00</td>\n",
       "      <td>4</td>\n",
       "      <td>0</td>\n",
       "      <td>2/1/2016</td>\n",
       "      <td>0</td>\n",
       "      <td>2</td>\n",
       "    </tr>\n",
       "  </tbody>\n",
       "</table>\n",
       "<p>5 rows × 36 columns</p>\n",
       "</div>"
      ],
      "text/plain": [
       "              Employee_Name  EmpID  MarriedID  MaritalStatusID  GenderID  \\\n",
       "0       Adinolfi, Wilson  K  10026          0                0         1   \n",
       "1  Ait Sidi, Karthikeyan     10084          1                1         1   \n",
       "2         Akinkuolie, Sarah  10196          1                1         0   \n",
       "3              Alagbe,Trina  10088          1                1         0   \n",
       "4          Anderson, Carol   10069          0                2         0   \n",
       "\n",
       "   EmpStatusID  DeptID  PerfScoreID  FromDiversityJobFairID  Salary  ...  \\\n",
       "0            1       5            4                       0   62506  ...   \n",
       "1            5       3            3                       0  104437  ...   \n",
       "2            5       5            3                       0   64955  ...   \n",
       "3            1       5            3                       0   64991  ...   \n",
       "4            5       5            3                       0   50825  ...   \n",
       "\n",
       "      ManagerName  ManagerID RecruitmentSource PerformanceScore  \\\n",
       "0  Michael Albert       22.0          LinkedIn          Exceeds   \n",
       "1      Simon Roup        4.0            Indeed      Fully Meets   \n",
       "2  Kissy Sullivan       20.0          LinkedIn      Fully Meets   \n",
       "3    Elijiah Gray       16.0            Indeed      Fully Meets   \n",
       "4  Webster Butler       39.0     Google Search      Fully Meets   \n",
       "\n",
       "   EngagementSurvey EmpSatisfaction SpecialProjectsCount  \\\n",
       "0              4.60               5                    0   \n",
       "1              4.96               3                    6   \n",
       "2              3.02               3                    0   \n",
       "3              4.84               5                    0   \n",
       "4              5.00               4                    0   \n",
       "\n",
       "  LastPerformanceReview_Date DaysLateLast30 Absences  \n",
       "0                  1/17/2019              0        1  \n",
       "1                  2/24/2016              0       17  \n",
       "2                  5/15/2012              0        3  \n",
       "3                   1/3/2019              0       15  \n",
       "4                   2/1/2016              0        2  \n",
       "\n",
       "[5 rows x 36 columns]"
      ]
     },
     "execution_count": 75,
     "metadata": {},
     "output_type": "execute_result"
    }
   ],
   "source": [
    "#read in the dataset and then see first five rows of the dataframe df\n",
    "df = pd.read_csv(\"C:/Users/Student/Downloads/HR Diversity Dataset.csv\")\n",
    "df.head()"
   ]
  },
  {
   "cell_type": "code",
   "execution_count": 76,
   "metadata": {},
   "outputs": [
    {
     "name": "stdout",
     "output_type": "stream",
     "text": [
      "<class 'pandas.core.frame.DataFrame'>\n",
      "RangeIndex: 311 entries, 0 to 310\n",
      "Data columns (total 36 columns):\n",
      " #   Column                      Non-Null Count  Dtype  \n",
      "---  ------                      --------------  -----  \n",
      " 0   Employee_Name               311 non-null    object \n",
      " 1   EmpID                       311 non-null    int64  \n",
      " 2   MarriedID                   311 non-null    int64  \n",
      " 3   MaritalStatusID             311 non-null    int64  \n",
      " 4   GenderID                    311 non-null    int64  \n",
      " 5   EmpStatusID                 311 non-null    int64  \n",
      " 6   DeptID                      311 non-null    int64  \n",
      " 7   PerfScoreID                 311 non-null    int64  \n",
      " 8   FromDiversityJobFairID      311 non-null    int64  \n",
      " 9   Salary                      311 non-null    int64  \n",
      " 10  Termd                       311 non-null    int64  \n",
      " 11  PositionID                  311 non-null    int64  \n",
      " 12  Position                    311 non-null    object \n",
      " 13  State                       311 non-null    object \n",
      " 14  Zip                         311 non-null    int64  \n",
      " 15  DOB                         311 non-null    object \n",
      " 16  Sex                         311 non-null    object \n",
      " 17  MaritalDesc                 311 non-null    object \n",
      " 18  CitizenDesc                 311 non-null    object \n",
      " 19  HispanicLatino              311 non-null    object \n",
      " 20  RaceDesc                    311 non-null    object \n",
      " 21  DateofHire                  311 non-null    object \n",
      " 22  DateofTermination           104 non-null    object \n",
      " 23  TermReason                  311 non-null    object \n",
      " 24  EmploymentStatus            311 non-null    object \n",
      " 25  Department                  311 non-null    object \n",
      " 26  ManagerName                 311 non-null    object \n",
      " 27  ManagerID                   303 non-null    float64\n",
      " 28  RecruitmentSource           311 non-null    object \n",
      " 29  PerformanceScore            311 non-null    object \n",
      " 30  EngagementSurvey            311 non-null    float64\n",
      " 31  EmpSatisfaction             311 non-null    int64  \n",
      " 32  SpecialProjectsCount        311 non-null    int64  \n",
      " 33  LastPerformanceReview_Date  311 non-null    object \n",
      " 34  DaysLateLast30              311 non-null    int64  \n",
      " 35  Absences                    311 non-null    int64  \n",
      "dtypes: float64(2), int64(16), object(18)\n",
      "memory usage: 87.6+ KB\n",
      "None\n"
     ]
    }
   ],
   "source": [
    "# display general information about the dataset to identify data types and missing values\n",
    "print(df.info())"
   ]
  },
  {
   "cell_type": "code",
   "execution_count": 77,
   "metadata": {},
   "outputs": [
    {
     "name": "stdout",
     "output_type": "stream",
     "text": [
      "Employee_Name                   0\n",
      "EmpID                           0\n",
      "MarriedID                       0\n",
      "MaritalStatusID                 0\n",
      "GenderID                        0\n",
      "EmpStatusID                     0\n",
      "DeptID                          0\n",
      "PerfScoreID                     0\n",
      "FromDiversityJobFairID          0\n",
      "Salary                          0\n",
      "Termd                           0\n",
      "PositionID                      0\n",
      "Position                        0\n",
      "State                           0\n",
      "Zip                             0\n",
      "DOB                             0\n",
      "Sex                             0\n",
      "MaritalDesc                     0\n",
      "CitizenDesc                     0\n",
      "HispanicLatino                  0\n",
      "RaceDesc                        0\n",
      "DateofHire                      0\n",
      "DateofTermination             207\n",
      "TermReason                      0\n",
      "EmploymentStatus                0\n",
      "Department                      0\n",
      "ManagerName                     0\n",
      "ManagerID                       8\n",
      "RecruitmentSource               0\n",
      "PerformanceScore                0\n",
      "EngagementSurvey                0\n",
      "EmpSatisfaction                 0\n",
      "SpecialProjectsCount            0\n",
      "LastPerformanceReview_Date      0\n",
      "DaysLateLast30                  0\n",
      "Absences                        0\n",
      "dtype: int64\n"
     ]
    }
   ],
   "source": [
    "# check for missing values\n",
    "print(df.isnull().sum())"
   ]
  },
  {
   "cell_type": "code",
   "execution_count": 78,
   "metadata": {},
   "outputs": [],
   "source": [
    "# ManagerID and DateofTermination are the only columns with missing values\n",
    "# Let's fill these missing values in with 'N/A' for now, DateofTermination is definitely optional attribute that doesn't apply to everyone but not sure about ManagerID just yet\n",
    "\n",
    "df['ManagerID'] = df['ManagerID'].fillna(0)\n",
    "df['DateofTermination'] = df['DateofTermination'].fillna('N/A')"
   ]
  },
  {
   "cell_type": "code",
   "execution_count": 79,
   "metadata": {},
   "outputs": [
    {
     "name": "stdout",
     "output_type": "stream",
     "text": [
      "Employee_Name                 0\n",
      "EmpID                         0\n",
      "MarriedID                     0\n",
      "MaritalStatusID               0\n",
      "GenderID                      0\n",
      "EmpStatusID                   0\n",
      "DeptID                        0\n",
      "PerfScoreID                   0\n",
      "FromDiversityJobFairID        0\n",
      "Salary                        0\n",
      "Termd                         0\n",
      "PositionID                    0\n",
      "Position                      0\n",
      "State                         0\n",
      "Zip                           0\n",
      "DOB                           0\n",
      "Sex                           0\n",
      "MaritalDesc                   0\n",
      "CitizenDesc                   0\n",
      "HispanicLatino                0\n",
      "RaceDesc                      0\n",
      "DateofHire                    0\n",
      "DateofTermination             0\n",
      "TermReason                    0\n",
      "EmploymentStatus              0\n",
      "Department                    0\n",
      "ManagerName                   0\n",
      "ManagerID                     0\n",
      "RecruitmentSource             0\n",
      "PerformanceScore              0\n",
      "EngagementSurvey              0\n",
      "EmpSatisfaction               0\n",
      "SpecialProjectsCount          0\n",
      "LastPerformanceReview_Date    0\n",
      "DaysLateLast30                0\n",
      "Absences                      0\n",
      "dtype: int64\n"
     ]
    }
   ],
   "source": [
    "# Check for missing values\n",
    "print(df.isnull().sum())"
   ]
  },
  {
   "cell_type": "code",
   "execution_count": 80,
   "metadata": {},
   "outputs": [
    {
     "name": "stdout",
     "output_type": "stream",
     "text": [
      "Employee_Name                 311\n",
      "EmpID                         311\n",
      "MarriedID                       2\n",
      "MaritalStatusID                 5\n",
      "GenderID                        2\n",
      "EmpStatusID                     5\n",
      "DeptID                          6\n",
      "PerfScoreID                     4\n",
      "FromDiversityJobFairID          2\n",
      "Salary                        308\n",
      "Termd                           2\n",
      "PositionID                     30\n",
      "Position                       32\n",
      "State                          28\n",
      "Zip                           158\n",
      "DOB                           307\n",
      "Sex                             2\n",
      "MaritalDesc                     5\n",
      "CitizenDesc                     3\n",
      "HispanicLatino                  4\n",
      "RaceDesc                        6\n",
      "DateofHire                    101\n",
      "DateofTermination              97\n",
      "TermReason                     18\n",
      "EmploymentStatus                3\n",
      "Department                      6\n",
      "ManagerName                    21\n",
      "ManagerID                      24\n",
      "RecruitmentSource               9\n",
      "PerformanceScore                4\n",
      "EngagementSurvey              119\n",
      "EmpSatisfaction                 5\n",
      "SpecialProjectsCount            9\n",
      "LastPerformanceReview_Date    137\n",
      "DaysLateLast30                  7\n",
      "Absences                       20\n",
      "dtype: int64\n"
     ]
    }
   ],
   "source": [
    "# Calculate the number of unique values for each column\n",
    "unique_values = df.nunique()\n",
    "\n",
    "# Print the number of unique values for each column\n",
    "print(unique_values)"
   ]
  },
  {
   "cell_type": "code",
   "execution_count": 81,
   "metadata": {},
   "outputs": [
    {
     "name": "stdout",
     "output_type": "stream",
     "text": [
      "['No' 'Yes' 'no' 'yes']\n"
     ]
    }
   ],
   "source": [
    "# HispanicLatino should be 2 since its a yes/no, and manager ID/manager name should be the same numbers since each manager has their own ID\n",
    "\n",
    "# get the unique values in the 'HispanicLatino' column\n",
    "unique_val_hispaniclatino = df['HispanicLatino'].unique()\n",
    "\n",
    "# print the unique values\n",
    "print(unique_val_hispaniclatino)"
   ]
  },
  {
   "cell_type": "code",
   "execution_count": 82,
   "metadata": {},
   "outputs": [
    {
     "name": "stdout",
     "output_type": "stream",
     "text": [
      "['No' 'Yes']\n"
     ]
    }
   ],
   "source": [
    "# standardize 'Yes' and 'No' values in the 'HispanicLatino' column\n",
    "df['HispanicLatino'] = df['HispanicLatino'].str.capitalize()\n",
    "\n",
    "# verify change by printing the unique values again\n",
    "print(df['HispanicLatino'].unique())"
   ]
  },
  {
   "cell_type": "code",
   "execution_count": 83,
   "metadata": {},
   "outputs": [
    {
     "name": "stdout",
     "output_type": "stream",
     "text": [
      "           ManagerName  ManagerID  Count\n",
      "0      Alex Sweetwater       10.0      9\n",
      "1             Amy Dunn       11.0     21\n",
      "2   Board of Directors        9.0      2\n",
      "3   Brandon R. LeBlanc        1.0      6\n",
      "4   Brandon R. LeBlanc        3.0      1\n",
      "5       Brannon Miller       12.0     22\n",
      "6     Brian Champaigne       13.0      8\n",
      "7        David Stanley       14.0     21\n",
      "8       Debra Houlihan       15.0      3\n",
      "9         Elijiah Gray       16.0     22\n",
      "10        Eric Dougall        6.0      4\n",
      "11          Janet King        2.0     19\n",
      "12     Jennifer Zamora        5.0      7\n",
      "13          John Smith       17.0     14\n",
      "14       Kelley Spirea       18.0     22\n",
      "15       Ketsia Liebig       19.0     21\n",
      "16      Kissy Sullivan       20.0     22\n",
      "17       Lynn Daneault       21.0     13\n",
      "18      Michael Albert       22.0     21\n",
      "19      Michael Albert       30.0      1\n",
      "20        Peter Monroe        7.0     14\n",
      "21          Simon Roup        4.0     17\n",
      "22      Webster Butler        0.0      8\n",
      "23      Webster Butler       39.0     13\n"
     ]
    }
   ],
   "source": [
    "# let's take a look at each manager's name and associated ID, and then how many observations there are of them to see the discrepancy\n",
    "\n",
    "# group the data by 'ManagerName' and 'ManagerID' and count the occurrences\n",
    "manager_combos = df.groupby(['ManagerName', 'ManagerID']).size().reset_index(name='Count')\n",
    "\n",
    "# sort result by 'ManagerName' and 'ManagerID' to make it easier to see\n",
    "manager_combos_sorted = manager_combos.sort_values(by=['ManagerName', 'ManagerID'])\n",
    "\n",
    "# print sorted combinations\n",
    "print(manager_combos_sorted)"
   ]
  },
  {
   "cell_type": "code",
   "execution_count": 84,
   "metadata": {},
   "outputs": [
    {
     "name": "stdout",
     "output_type": "stream",
     "text": [
      "[39.]\n"
     ]
    }
   ],
   "source": [
    "# It looks like three people have multiple Manager IDs:\n",
    "# Because Brandon R. LeBlanc and Michael Albert have only one value that is different and the ManagerID is not anyone else's I will keep these values.\n",
    "#       There's no context in the data description but sometimes, a manager might have multiple roles within an organization, leading to different IDs in separate systems.\n",
    "# It does strike me as odd that Webster Butler has 8 instances of a \"0.0\" ManagerID; let's replace them with \"39.0\" ManagerID because these \"0.0\" are most likely blank cells especially since the data types are float values.\n",
    "\n",
    "# update 'ManagerID' for Webster Butler from '0.0' to '39.0'\n",
    "df.loc[(df['ManagerName'] == 'Webster Butler') & (df['ManagerID'] == 0.0), 'ManagerID'] = 39.0\n",
    "\n",
    "# verify changes\n",
    "print(df[df['ManagerName'] == 'Webster Butler']['ManagerID'].unique())"
   ]
  },
  {
   "cell_type": "code",
   "execution_count": 85,
   "metadata": {},
   "outputs": [
    {
     "name": "stdout",
     "output_type": "stream",
     "text": [
      "           ManagerName  ManagerID  Count\n",
      "0      Alex Sweetwater       10.0      9\n",
      "1             Amy Dunn       11.0     21\n",
      "2   Board of Directors        9.0      2\n",
      "3   Brandon R. LeBlanc        1.0      6\n",
      "4   Brandon R. LeBlanc        3.0      1\n",
      "5       Brannon Miller       12.0     22\n",
      "6     Brian Champaigne       13.0      8\n",
      "7        David Stanley       14.0     21\n",
      "8       Debra Houlihan       15.0      3\n",
      "9         Elijiah Gray       16.0     22\n",
      "10        Eric Dougall        6.0      4\n",
      "11          Janet King        2.0     19\n",
      "12     Jennifer Zamora        5.0      7\n",
      "13          John Smith       17.0     14\n",
      "14       Kelley Spirea       18.0     22\n",
      "15       Ketsia Liebig       19.0     21\n",
      "16      Kissy Sullivan       20.0     22\n",
      "17       Lynn Daneault       21.0     13\n",
      "18      Michael Albert       22.0     21\n",
      "19      Michael Albert       30.0      1\n",
      "20        Peter Monroe        7.0     14\n",
      "21          Simon Roup        4.0     17\n",
      "22      Webster Butler       39.0     21\n"
     ]
    }
   ],
   "source": [
    "# group the data by 'ManagerName' and 'ManagerID' and count the occurrences\n",
    "fixed_manager_combos = df.groupby(['ManagerName', 'ManagerID']).size().reset_index(name='Count')\n",
    "\n",
    "# sort result by 'ManagerName' and 'ManagerID' to make it easier to see\n",
    "fixed_manager_combos_sorted = fixed_manager_combos.sort_values(by=['ManagerName', 'ManagerID'])\n",
    "\n",
    "# print sorted combinations\n",
    "print(fixed_manager_combos_sorted)"
   ]
  },
  {
   "cell_type": "code",
   "execution_count": 86,
   "metadata": {},
   "outputs": [
    {
     "name": "stdout",
     "output_type": "stream",
     "text": [
      "Employee_Name                         object\n",
      "EmpID                                  int64\n",
      "MarriedID                              int64\n",
      "MaritalStatusID                        int64\n",
      "GenderID                               int64\n",
      "EmpStatusID                            int64\n",
      "DeptID                                 int64\n",
      "PerfScoreID                            int64\n",
      "FromDiversityJobFairID                 int64\n",
      "Salary                                 int64\n",
      "Termd                                  int64\n",
      "PositionID                             int64\n",
      "Position                              object\n",
      "State                                 object\n",
      "Zip                                    int64\n",
      "DOB                           datetime64[ns]\n",
      "Sex                                   object\n",
      "MaritalDesc                           object\n",
      "CitizenDesc                           object\n",
      "HispanicLatino                          bool\n",
      "RaceDesc                              object\n",
      "DateofHire                    datetime64[ns]\n",
      "DateofTermination             datetime64[ns]\n",
      "TermReason                            object\n",
      "EmploymentStatus                      object\n",
      "Department                            object\n",
      "ManagerName                           object\n",
      "ManagerID                              Int64\n",
      "RecruitmentSource                     object\n",
      "PerformanceScore                      object\n",
      "EngagementSurvey                     float64\n",
      "EmpSatisfaction                        int64\n",
      "SpecialProjectsCount                   int64\n",
      "LastPerformanceReview_Date    datetime64[ns]\n",
      "DaysLateLast30                         int64\n",
      "Absences                               int64\n",
      "dtype: object\n"
     ]
    },
    {
     "name": "stderr",
     "output_type": "stream",
     "text": [
      "C:\\Users\\Student\\AppData\\Local\\Temp\\ipykernel_21832\\385342934.py:4: UserWarning:\n",
      "\n",
      "Could not infer format, so each element will be parsed individually, falling back to `dateutil`. To ensure parsing is consistent and as-expected, please specify a format.\n",
      "\n"
     ]
    }
   ],
   "source": [
    "# convert date columns to datetime\n",
    "date_columns = ['DOB', 'DateofHire', 'DateofTermination', 'LastPerformanceReview_Date']\n",
    "for col in date_columns:\n",
    "    df[col] = pd.to_datetime(df[col], errors = 'coerce')\n",
    "\n",
    "# convert HispanicLatino to binary format since it contains only 'Yes'/'No' values\n",
    "if set(df['HispanicLatino'].unique()) == {'Yes', 'No'}:\n",
    "    df['HispanicLatino'] = df['HispanicLatino'].map({'Yes': True, 'No': False})\n",
    "\n",
    "# convert ManagerID to Int64 to support NaN values\n",
    "df['ManagerID'] = df['ManagerID'].astype('Int64')\n",
    "\n",
    "# display data types to verify change\n",
    "print(df.dtypes)\n"
   ]
  },
  {
   "cell_type": "code",
   "execution_count": 87,
   "metadata": {},
   "outputs": [],
   "source": [
    "# replace NaT spaces (from converting to datetime) with 'N/A' in 'DateofTermination'\n",
    "# this is just because N/A indicates \"not applicable\", since it's an optional attribute\n",
    "df['DateofTermination'] = df['DateofTermination'].fillna('N/A')"
   ]
  },
  {
   "cell_type": "code",
   "execution_count": 88,
   "metadata": {},
   "outputs": [
    {
     "name": "stdout",
     "output_type": "stream",
     "text": [
      "0         Wilson K Adinolfi\n",
      "1     Karthikeyan  Ait Sidi\n",
      "2          Sarah Akinkuolie\n",
      "3              Trina Alagbe\n",
      "4            Carol Anderson\n",
      "Name: Employee_Name, dtype: object\n"
     ]
    }
   ],
   "source": [
    "# i would like for names to be formatted First Middle Last just because its more logical\n",
    "\n",
    "def reformat(name):\n",
    "    # make sure there's a space after the comma\n",
    "    name_with_space = name.replace(',', ', ')\n",
    "    # split the name on the comma and space\n",
    "    parts = name_with_space.split(', ')\n",
    "    # check if name actually contains comma, prevent errors\n",
    "    if len(parts) == 2:\n",
    "        lastname, firstname = parts\n",
    "        # reformat to \"Firstname Lastname\"\n",
    "        return f\"{firstname} {lastname}\".replace(\"  \", \" \")  # no double spaces allowed\n",
    "    else:\n",
    "        # return name as is if it doesn't fit the expected format\n",
    "        return name\n",
    "\n",
    "# apply reformat function to each name in Employee_Name column\n",
    "df['Employee_Name'] = df['Employee_Name'].apply(reformat)\n",
    "\n",
    "# display first few rows to verify change\n",
    "print(df['Employee_Name'].head())"
   ]
  },
  {
   "cell_type": "code",
   "execution_count": 89,
   "metadata": {},
   "outputs": [
    {
     "name": "stdout",
     "output_type": "stream",
     "text": [
      "Employee_Name                 0\n",
      "EmpID                         0\n",
      "MarriedID                     0\n",
      "MaritalStatusID               0\n",
      "GenderID                      0\n",
      "EmpStatusID                   0\n",
      "DeptID                        0\n",
      "PerfScoreID                   0\n",
      "FromDiversityJobFairID        0\n",
      "Salary                        0\n",
      "Termd                         0\n",
      "PositionID                    0\n",
      "Position                      0\n",
      "State                         0\n",
      "Zip                           0\n",
      "DOB                           0\n",
      "Sex                           0\n",
      "MaritalDesc                   0\n",
      "CitizenDesc                   0\n",
      "HispanicLatino                0\n",
      "RaceDesc                      0\n",
      "DateofHire                    0\n",
      "DateofTermination             0\n",
      "TermReason                    0\n",
      "EmploymentStatus              0\n",
      "Department                    0\n",
      "ManagerName                   0\n",
      "ManagerID                     0\n",
      "RecruitmentSource             0\n",
      "PerformanceScore              0\n",
      "EngagementSurvey              0\n",
      "EmpSatisfaction               0\n",
      "SpecialProjectsCount          0\n",
      "LastPerformanceReview_Date    0\n",
      "DaysLateLast30                0\n",
      "Absences                      0\n",
      "dtype: int64\n"
     ]
    }
   ],
   "source": [
    "# check for missing values\n",
    "print(df.isnull().sum())"
   ]
  },
  {
   "cell_type": "code",
   "execution_count": 90,
   "metadata": {},
   "outputs": [
    {
     "name": "stdout",
     "output_type": "stream",
     "text": [
      "['N/A' Timestamp('2016-06-16 00:00:00') Timestamp('2012-09-24 00:00:00')\n",
      " Timestamp('2016-09-06 00:00:00') Timestamp('2017-01-12 00:00:00')\n",
      " Timestamp('2016-09-19 00:00:00') Timestamp('2017-04-06 00:00:00')\n",
      " Timestamp('2017-08-04 00:00:00') Timestamp('2015-09-12 00:00:00')\n",
      " Timestamp('2014-04-04 00:00:00') Timestamp('2016-02-19 00:00:00')\n",
      " Timestamp('2014-08-07 00:00:00') Timestamp('2013-06-15 00:00:00')\n",
      " Timestamp('2014-08-02 00:00:00') Timestamp('2015-11-15 00:00:00')\n",
      " Timestamp('2013-01-07 00:00:00') Timestamp('2011-09-26 00:00:00')\n",
      " Timestamp('2016-09-23 00:00:00') Timestamp('2016-06-08 00:00:00')\n",
      " Timestamp('2015-11-04 00:00:00') Timestamp('2017-06-06 00:00:00')\n",
      " Timestamp('2018-09-27 00:00:00') Timestamp('2018-02-25 00:00:00')\n",
      " Timestamp('2013-06-05 00:00:00') Timestamp('2016-05-17 00:00:00')\n",
      " Timestamp('2013-06-24 00:00:00') Timestamp('2013-01-09 00:00:00')\n",
      " Timestamp('2018-08-19 00:00:00') Timestamp('2016-11-15 00:00:00')\n",
      " Timestamp('2015-09-05 00:00:00') Timestamp('2015-06-25 00:00:00')\n",
      " Timestamp('2015-03-15 00:00:00') Timestamp('2011-05-30 00:00:00')\n",
      " Timestamp('2014-01-11 00:00:00') Timestamp('2014-10-31 00:00:00')\n",
      " Timestamp('2015-12-15 00:00:00') Timestamp('2013-06-18 00:00:00')\n",
      " Timestamp('2012-04-07 00:00:00') Timestamp('2015-04-15 00:00:00')\n",
      " Timestamp('2013-04-01 00:00:00') Timestamp('2018-04-29 00:00:00')\n",
      " Timestamp('2016-04-01 00:00:00') Timestamp('2014-04-24 00:00:00')\n",
      " Timestamp('2015-06-04 00:00:00') Timestamp('2014-01-09 00:00:00')\n",
      " Timestamp('2015-12-12 00:00:00') Timestamp('2014-03-31 00:00:00')\n",
      " Timestamp('2013-04-15 00:00:00') Timestamp('2018-09-26 00:00:00')\n",
      " Timestamp('2016-09-15 00:00:00') Timestamp('2015-11-14 00:00:00')\n",
      " Timestamp('2017-09-26 00:00:00') Timestamp('2012-08-19 00:00:00')\n",
      " Timestamp('2016-11-11 00:00:00') Timestamp('2014-09-04 00:00:00')\n",
      " Timestamp('2016-05-25 00:00:00') Timestamp('2018-05-01 00:00:00')\n",
      " Timestamp('2013-08-19 00:00:00') Timestamp('2014-01-12 00:00:00')\n",
      " Timestamp('2015-09-07 00:00:00') Timestamp('2016-05-01 00:00:00')\n",
      " Timestamp('2017-12-28 00:00:00') Timestamp('2015-09-15 00:00:00')\n",
      " Timestamp('2015-10-25 00:00:00') Timestamp('2013-02-04 00:00:00')\n",
      " Timestamp('2016-05-18 00:00:00') Timestamp('2012-11-30 00:00:00')\n",
      " Timestamp('2018-06-04 00:00:00') Timestamp('2015-08-15 00:00:00')\n",
      " Timestamp('2018-04-07 00:00:00') Timestamp('2016-01-15 00:00:00')\n",
      " Timestamp('2011-10-22 00:00:00') Timestamp('2012-02-08 00:00:00')\n",
      " Timestamp('2016-01-26 00:00:00') Timestamp('2018-11-10 00:00:00')\n",
      " Timestamp('2018-08-13 00:00:00') Timestamp('2018-07-30 00:00:00')\n",
      " Timestamp('2015-10-31 00:00:00') Timestamp('2015-04-08 00:00:00')\n",
      " Timestamp('2013-09-25 00:00:00') Timestamp('2015-06-29 00:00:00')\n",
      " Timestamp('2017-07-08 00:00:00') Timestamp('2016-09-05 00:00:00')\n",
      " Timestamp('2010-08-30 00:00:00') Timestamp('2016-02-12 00:00:00')\n",
      " Timestamp('2018-04-15 00:00:00') Timestamp('2014-07-02 00:00:00')\n",
      " Timestamp('2016-02-05 00:00:00') Timestamp('2017-02-22 00:00:00')\n",
      " Timestamp('2016-02-08 00:00:00') Timestamp('2012-01-02 00:00:00')\n",
      " Timestamp('2015-09-01 00:00:00') Timestamp('2014-05-15 00:00:00')\n",
      " Timestamp('2012-05-14 00:00:00') Timestamp('2015-06-27 00:00:00')\n",
      " Timestamp('2016-02-21 00:00:00') Timestamp('2015-09-29 00:00:00')]\n"
     ]
    }
   ],
   "source": [
    "# no missing values! \n",
    "# now confirm that N/A is there instead of NaT for blank cells for the 'DateofTermination' column\n",
    "\n",
    "# print unique values in the 'DateofTermination' column\n",
    "unique_dates_of_termination = df['DateofTermination'].unique()\n",
    "\n",
    "print(unique_dates_of_termination)"
   ]
  },
  {
   "cell_type": "code",
   "execution_count": 91,
   "metadata": {},
   "outputs": [
    {
     "data": {
      "text/html": [
       "<div>\n",
       "<style scoped>\n",
       "    .dataframe tbody tr th:only-of-type {\n",
       "        vertical-align: middle;\n",
       "    }\n",
       "\n",
       "    .dataframe tbody tr th {\n",
       "        vertical-align: top;\n",
       "    }\n",
       "\n",
       "    .dataframe thead th {\n",
       "        text-align: right;\n",
       "    }\n",
       "</style>\n",
       "<table border=\"1\" class=\"dataframe\">\n",
       "  <thead>\n",
       "    <tr style=\"text-align: right;\">\n",
       "      <th></th>\n",
       "      <th>Employee_Name</th>\n",
       "      <th>EmpID</th>\n",
       "      <th>MarriedID</th>\n",
       "      <th>MaritalStatusID</th>\n",
       "      <th>GenderID</th>\n",
       "      <th>EmpStatusID</th>\n",
       "      <th>DeptID</th>\n",
       "      <th>PerfScoreID</th>\n",
       "      <th>FromDiversityJobFairID</th>\n",
       "      <th>Salary</th>\n",
       "      <th>...</th>\n",
       "      <th>ManagerName</th>\n",
       "      <th>ManagerID</th>\n",
       "      <th>RecruitmentSource</th>\n",
       "      <th>PerformanceScore</th>\n",
       "      <th>EngagementSurvey</th>\n",
       "      <th>EmpSatisfaction</th>\n",
       "      <th>SpecialProjectsCount</th>\n",
       "      <th>LastPerformanceReview_Date</th>\n",
       "      <th>DaysLateLast30</th>\n",
       "      <th>Absences</th>\n",
       "    </tr>\n",
       "  </thead>\n",
       "  <tbody>\n",
       "    <tr>\n",
       "      <th>0</th>\n",
       "      <td>Wilson K Adinolfi</td>\n",
       "      <td>10026</td>\n",
       "      <td>0</td>\n",
       "      <td>0</td>\n",
       "      <td>1</td>\n",
       "      <td>1</td>\n",
       "      <td>5</td>\n",
       "      <td>4</td>\n",
       "      <td>0</td>\n",
       "      <td>62506</td>\n",
       "      <td>...</td>\n",
       "      <td>Michael Albert</td>\n",
       "      <td>22</td>\n",
       "      <td>LinkedIn</td>\n",
       "      <td>Exceeds</td>\n",
       "      <td>4.60</td>\n",
       "      <td>5</td>\n",
       "      <td>0</td>\n",
       "      <td>2019-01-17</td>\n",
       "      <td>0</td>\n",
       "      <td>1</td>\n",
       "    </tr>\n",
       "    <tr>\n",
       "      <th>1</th>\n",
       "      <td>Karthikeyan  Ait Sidi</td>\n",
       "      <td>10084</td>\n",
       "      <td>1</td>\n",
       "      <td>1</td>\n",
       "      <td>1</td>\n",
       "      <td>5</td>\n",
       "      <td>3</td>\n",
       "      <td>3</td>\n",
       "      <td>0</td>\n",
       "      <td>104437</td>\n",
       "      <td>...</td>\n",
       "      <td>Simon Roup</td>\n",
       "      <td>4</td>\n",
       "      <td>Indeed</td>\n",
       "      <td>Fully Meets</td>\n",
       "      <td>4.96</td>\n",
       "      <td>3</td>\n",
       "      <td>6</td>\n",
       "      <td>2016-02-24</td>\n",
       "      <td>0</td>\n",
       "      <td>17</td>\n",
       "    </tr>\n",
       "    <tr>\n",
       "      <th>2</th>\n",
       "      <td>Sarah Akinkuolie</td>\n",
       "      <td>10196</td>\n",
       "      <td>1</td>\n",
       "      <td>1</td>\n",
       "      <td>0</td>\n",
       "      <td>5</td>\n",
       "      <td>5</td>\n",
       "      <td>3</td>\n",
       "      <td>0</td>\n",
       "      <td>64955</td>\n",
       "      <td>...</td>\n",
       "      <td>Kissy Sullivan</td>\n",
       "      <td>20</td>\n",
       "      <td>LinkedIn</td>\n",
       "      <td>Fully Meets</td>\n",
       "      <td>3.02</td>\n",
       "      <td>3</td>\n",
       "      <td>0</td>\n",
       "      <td>2012-05-15</td>\n",
       "      <td>0</td>\n",
       "      <td>3</td>\n",
       "    </tr>\n",
       "    <tr>\n",
       "      <th>3</th>\n",
       "      <td>Trina Alagbe</td>\n",
       "      <td>10088</td>\n",
       "      <td>1</td>\n",
       "      <td>1</td>\n",
       "      <td>0</td>\n",
       "      <td>1</td>\n",
       "      <td>5</td>\n",
       "      <td>3</td>\n",
       "      <td>0</td>\n",
       "      <td>64991</td>\n",
       "      <td>...</td>\n",
       "      <td>Elijiah Gray</td>\n",
       "      <td>16</td>\n",
       "      <td>Indeed</td>\n",
       "      <td>Fully Meets</td>\n",
       "      <td>4.84</td>\n",
       "      <td>5</td>\n",
       "      <td>0</td>\n",
       "      <td>2019-01-03</td>\n",
       "      <td>0</td>\n",
       "      <td>15</td>\n",
       "    </tr>\n",
       "    <tr>\n",
       "      <th>4</th>\n",
       "      <td>Carol Anderson</td>\n",
       "      <td>10069</td>\n",
       "      <td>0</td>\n",
       "      <td>2</td>\n",
       "      <td>0</td>\n",
       "      <td>5</td>\n",
       "      <td>5</td>\n",
       "      <td>3</td>\n",
       "      <td>0</td>\n",
       "      <td>50825</td>\n",
       "      <td>...</td>\n",
       "      <td>Webster Butler</td>\n",
       "      <td>39</td>\n",
       "      <td>Google Search</td>\n",
       "      <td>Fully Meets</td>\n",
       "      <td>5.00</td>\n",
       "      <td>4</td>\n",
       "      <td>0</td>\n",
       "      <td>2016-02-01</td>\n",
       "      <td>0</td>\n",
       "      <td>2</td>\n",
       "    </tr>\n",
       "  </tbody>\n",
       "</table>\n",
       "<p>5 rows × 36 columns</p>\n",
       "</div>"
      ],
      "text/plain": [
       "            Employee_Name  EmpID  MarriedID  MaritalStatusID  GenderID  \\\n",
       "0       Wilson K Adinolfi  10026          0                0         1   \n",
       "1   Karthikeyan  Ait Sidi  10084          1                1         1   \n",
       "2        Sarah Akinkuolie  10196          1                1         0   \n",
       "3            Trina Alagbe  10088          1                1         0   \n",
       "4          Carol Anderson  10069          0                2         0   \n",
       "\n",
       "   EmpStatusID  DeptID  PerfScoreID  FromDiversityJobFairID  Salary  ...  \\\n",
       "0            1       5            4                       0   62506  ...   \n",
       "1            5       3            3                       0  104437  ...   \n",
       "2            5       5            3                       0   64955  ...   \n",
       "3            1       5            3                       0   64991  ...   \n",
       "4            5       5            3                       0   50825  ...   \n",
       "\n",
       "      ManagerName  ManagerID RecruitmentSource PerformanceScore  \\\n",
       "0  Michael Albert         22          LinkedIn          Exceeds   \n",
       "1      Simon Roup          4            Indeed      Fully Meets   \n",
       "2  Kissy Sullivan         20          LinkedIn      Fully Meets   \n",
       "3    Elijiah Gray         16            Indeed      Fully Meets   \n",
       "4  Webster Butler         39     Google Search      Fully Meets   \n",
       "\n",
       "   EngagementSurvey EmpSatisfaction SpecialProjectsCount  \\\n",
       "0              4.60               5                    0   \n",
       "1              4.96               3                    6   \n",
       "2              3.02               3                    0   \n",
       "3              4.84               5                    0   \n",
       "4              5.00               4                    0   \n",
       "\n",
       "  LastPerformanceReview_Date DaysLateLast30  Absences  \n",
       "0                 2019-01-17              0         1  \n",
       "1                 2016-02-24              0        17  \n",
       "2                 2012-05-15              0         3  \n",
       "3                 2019-01-03              0        15  \n",
       "4                 2016-02-01              0         2  \n",
       "\n",
       "[5 rows x 36 columns]"
      ]
     },
     "execution_count": 91,
     "metadata": {},
     "output_type": "execute_result"
    }
   ],
   "source": [
    "# just a final look.\n",
    "# happy with all column names as they are as concise as possible\n",
    "\n",
    "df.head()"
   ]
  },
  {
   "cell_type": "markdown",
   "metadata": {},
   "source": [
    "### Tidy data\n",
    "\n",
    "The principles of tidy data are as follows:\n",
    "\n",
    "Each variable forms a column: In a tidy dataset, every column represents a single variable. This means that each piece of information you're tracking (e.g., age, salary, department) should be in its own column.\n",
    "\n",
    "Each observation forms a row: Every row in a tidy dataset represents a single observation. An observation could be a single person, an event, a time point, etc., depending on the context of the dataset. \n",
    "\n",
    "Each type of observational unit forms a table"
   ]
  },
  {
   "cell_type": "markdown",
   "metadata": {},
   "source": [
    "### My HR dataset already meets the requirements of tidy data because:\n",
    "\n",
    "Each variable forms a column: My columns represent individual variables such as Employee Name, Employee ID, Marital Status ID, etc., which aligns with the tidy data principle.\n",
    "\n",
    "Each observation forms a row: Each row in my dataset corresponds to an individual employee's record, which is consistent with tidy data principles.\n",
    "\n",
    "Each type of observational unit forms a table: The dataset appears to contain a single observational unit (employee data). There aren't additional observational units mixed in (e.g., department details not directly related to individual employee records)."
   ]
  },
  {
   "cell_type": "code",
   "execution_count": 92,
   "metadata": {},
   "outputs": [
    {
     "name": "stdout",
     "output_type": "stream",
     "text": [
      "Employee_Name\n",
      "EmpID\n",
      "MarriedID\n",
      "MaritalStatusID\n",
      "GenderID\n",
      "EmpStatusID\n",
      "DeptID\n",
      "PerfScoreID\n",
      "FromDiversityJobFairID\n",
      "Salary\n",
      "Termd\n",
      "PositionID\n",
      "Position\n",
      "State\n",
      "Zip\n",
      "DOB\n",
      "Sex\n",
      "MaritalDesc\n",
      "CitizenDesc\n",
      "HispanicLatino\n",
      "RaceDesc\n",
      "DateofHire\n",
      "DateofTermination\n",
      "TermReason\n",
      "EmploymentStatus\n",
      "Department\n",
      "ManagerName\n",
      "ManagerID\n",
      "RecruitmentSource\n",
      "PerformanceScore\n",
      "EngagementSurvey\n",
      "EmpSatisfaction\n",
      "SpecialProjectsCount\n",
      "LastPerformanceReview_Date\n",
      "DaysLateLast30\n",
      "Absences\n"
     ]
    }
   ],
   "source": [
    "# looking at a list of columns to see what I need/definitely don't need\n",
    "\n",
    "# print out all column names line by line\n",
    "column_names = df.columns\n",
    "\n",
    "for name in column_names:\n",
    "    print(name)\n"
   ]
  },
  {
   "cell_type": "code",
   "execution_count": 93,
   "metadata": {},
   "outputs": [],
   "source": [
    "# i am keeping the columns with \"ID\" in them just in case down the line I want to use an employee's ID instead of their name, or if I want to sum 0's and 1's, or for position if I choose to use numbers instead of position name\n",
    "\n",
    "# columns to drop are those i know i won't need/aren't relevant because they're obsolete or unnecessary to final analysis\n",
    "drop = ['SpecialProjectsCount', 'DaysLateLast30', 'CitizenDesc', 'State', 'Zip']\n",
    "\n",
    "# drop specified columns from the DataFrame\n",
    "df = df.drop(columns=drop)"
   ]
  },
  {
   "cell_type": "code",
   "execution_count": 94,
   "metadata": {},
   "outputs": [
    {
     "name": "stdout",
     "output_type": "stream",
     "text": [
      "Employee_Name\n",
      "EmpID\n",
      "MarriedID\n",
      "MaritalStatusID\n",
      "GenderID\n",
      "EmpStatusID\n",
      "DeptID\n",
      "PerfScoreID\n",
      "FromDiversityJobFairID\n",
      "Salary\n",
      "Termd\n",
      "PositionID\n",
      "Position\n",
      "DOB\n",
      "Sex\n",
      "MaritalDesc\n",
      "HispanicLatino\n",
      "RaceDesc\n",
      "DateofHire\n",
      "DateofTermination\n",
      "TermReason\n",
      "EmploymentStatus\n",
      "Department\n",
      "ManagerName\n",
      "ManagerID\n",
      "RecruitmentSource\n",
      "PerformanceScore\n",
      "EngagementSurvey\n",
      "EmpSatisfaction\n",
      "LastPerformanceReview_Date\n",
      "Absences\n"
     ]
    }
   ],
   "source": [
    "# print out all column names line by line, just checking it updated\n",
    "column_names = df.columns\n",
    "\n",
    "for name in column_names:\n",
    "    print(name)"
   ]
  },
  {
   "cell_type": "markdown",
   "metadata": {},
   "source": [
    "#### Exploratory Analysis\n",
    "\n",
    "How many observations do you have?\n",
    "\n",
    "How many unique categories are there for categorical variables?\n",
    "\n",
    "What are the distributions of continuous variables? Are there outliers?\n",
    "\n",
    "...and others"
   ]
  },
  {
   "cell_type": "code",
   "execution_count": 95,
   "metadata": {},
   "outputs": [
    {
     "data": {
      "text/plain": [
       "(311, 31)"
      ]
     },
     "execution_count": 95,
     "metadata": {},
     "output_type": "execute_result"
    }
   ],
   "source": [
    "# explore the dataset using pandas\n",
    "# get the number of rows and columns\n",
    "df.shape"
   ]
  },
  {
   "cell_type": "code",
   "execution_count": 96,
   "metadata": {},
   "outputs": [
    {
     "name": "stdout",
     "output_type": "stream",
     "text": [
      "Employee_Name: 311\n",
      "Position: 32\n",
      "Sex: 2\n",
      "MaritalDesc: 5\n",
      "RaceDesc: 6\n",
      "DateofTermination: 97\n",
      "TermReason: 18\n",
      "EmploymentStatus: 3\n",
      "Department: 6\n",
      "ManagerName: 21\n",
      "RecruitmentSource: 9\n",
      "PerformanceScore: 4\n"
     ]
    }
   ],
   "source": [
    "# identify and count unique categories for categorical variables\n",
    "for col in df.select_dtypes(include=['object', 'category']):\n",
    "    print(f\"{col}: {df[col].nunique()}\")"
   ]
  },
  {
   "cell_type": "code",
   "execution_count": 97,
   "metadata": {},
   "outputs": [],
   "source": [
    "# import dependencies\n",
    "import seaborn as sns\n",
    "import plotly.express as px"
   ]
  },
  {
   "cell_type": "code",
   "execution_count": 98,
   "metadata": {},
   "outputs": [
    {
     "data": {
      "application/vnd.plotly.v1+json": {
       "config": {
        "plotlyServerURL": "https://plot.ly"
       },
       "data": [
        {
         "alignmentgroup": "True",
         "bingroup": "x",
         "hovertemplate": "Sex=M <br>Salary=%{x}<br>count=%{y}<extra></extra>",
         "legendgroup": "M ",
         "marker": {
          "color": "#636efa",
          "pattern": {
           "shape": ""
          }
         },
         "name": "M ",
         "offsetgroup": "M ",
         "orientation": "v",
         "showlegend": true,
         "type": "histogram",
         "x": [
          62506,
          104437,
          59365,
          50178,
          47211,
          92328,
          58709,
          52505,
          57834,
          53250,
          51044,
          103613,
          74312,
          65288,
          62162,
          77692,
          72640,
          52846,
          110929,
          60380,
          66808,
          68678,
          59369,
          50373,
          63108,
          59144,
          68051,
          170500,
          83552,
          92329,
          56294,
          56991,
          55722,
          61568,
          53189,
          96820,
          51259,
          138888,
          48888,
          54285,
          60340,
          64057,
          53366,
          72609,
          70187,
          178000,
          67251,
          52249,
          54933,
          74679,
          59892,
          68898,
          48285,
          62957,
          99020,
          71707,
          64246,
          46998,
          70545,
          83082,
          46837,
          50482,
          65310,
          46654,
          63973,
          71339,
          93206,
          82758,
          46120,
          64520,
          61962,
          93046,
          64738,
          70468,
          63450,
          52788,
          63291,
          83667,
          55800,
          58207,
          157000,
          72106,
          74417,
          57575,
          87921,
          50470,
          46664,
          48495,
          47414,
          53060,
          68829,
          108987,
          93093,
          53564,
          64724,
          47001,
          59472,
          83363,
          61729,
          61809,
          45115,
          55578,
          50428,
          63353,
          53180,
          140920,
          148999,
          46428,
          57975,
          88527,
          87826,
          60656,
          72992,
          87565,
          58273,
          63003,
          61355,
          63025,
          92989,
          90100,
          67176,
          64397,
          75281,
          100416,
          76029,
          58523,
          88976,
          55875,
          113999,
          66541,
          84903,
          58371,
          55140,
          70507,
          65893
         ],
         "xaxis": "x",
         "yaxis": "y"
        },
        {
         "alignmentgroup": "True",
         "boxpoints": "all",
         "fillcolor": "rgba(255,255,255,0)",
         "hoveron": "points",
         "hovertemplate": "Sex=M <br>Salary=%{x}<extra></extra>",
         "jitter": 0,
         "legendgroup": "M ",
         "line": {
          "color": "rgba(255,255,255,0)"
         },
         "marker": {
          "color": "#636efa",
          "symbol": "line-ns-open"
         },
         "name": "M ",
         "offsetgroup": "M ",
         "showlegend": false,
         "type": "box",
         "x": [
          62506,
          104437,
          59365,
          50178,
          47211,
          92328,
          58709,
          52505,
          57834,
          53250,
          51044,
          103613,
          74312,
          65288,
          62162,
          77692,
          72640,
          52846,
          110929,
          60380,
          66808,
          68678,
          59369,
          50373,
          63108,
          59144,
          68051,
          170500,
          83552,
          92329,
          56294,
          56991,
          55722,
          61568,
          53189,
          96820,
          51259,
          138888,
          48888,
          54285,
          60340,
          64057,
          53366,
          72609,
          70187,
          178000,
          67251,
          52249,
          54933,
          74679,
          59892,
          68898,
          48285,
          62957,
          99020,
          71707,
          64246,
          46998,
          70545,
          83082,
          46837,
          50482,
          65310,
          46654,
          63973,
          71339,
          93206,
          82758,
          46120,
          64520,
          61962,
          93046,
          64738,
          70468,
          63450,
          52788,
          63291,
          83667,
          55800,
          58207,
          157000,
          72106,
          74417,
          57575,
          87921,
          50470,
          46664,
          48495,
          47414,
          53060,
          68829,
          108987,
          93093,
          53564,
          64724,
          47001,
          59472,
          83363,
          61729,
          61809,
          45115,
          55578,
          50428,
          63353,
          53180,
          140920,
          148999,
          46428,
          57975,
          88527,
          87826,
          60656,
          72992,
          87565,
          58273,
          63003,
          61355,
          63025,
          92989,
          90100,
          67176,
          64397,
          75281,
          100416,
          76029,
          58523,
          88976,
          55875,
          113999,
          66541,
          84903,
          58371,
          55140,
          70507,
          65893
         ],
         "xaxis": "x2",
         "yaxis": "y2"
        },
        {
         "alignmentgroup": "True",
         "bingroup": "x",
         "hovertemplate": "Sex=F<br>Salary=%{x}<br>count=%{y}<extra></extra>",
         "legendgroup": "F",
         "marker": {
          "color": "#EF553B",
          "pattern": {
           "shape": ""
          }
         },
         "name": "F",
         "offsetgroup": "F",
         "orientation": "v",
         "showlegend": true,
         "type": "histogram",
         "x": [
          64955,
          64991,
          50825,
          57568,
          95660,
          47837,
          54670,
          70131,
          59026,
          110000,
          64919,
          62910,
          66441,
          57815,
          106367,
          53492,
          63000,
          64375,
          74326,
          63763,
          93396,
          100031,
          71860,
          61656,
          54237,
          64786,
          64816,
          64066,
          63381,
          56149,
          65729,
          85028,
          57583,
          101199,
          58275,
          59231,
          61584,
          46335,
          70621,
          74241,
          75188,
          62514,
          60070,
          56847,
          59124,
          99280,
          71776,
          65902,
          57748,
          58530,
          55965,
          99351,
          65707,
          53171,
          51337,
          51505,
          59370,
          57815,
          61555,
          114800,
          53018,
          61242,
          66825,
          66149,
          49256,
          63813,
          54828,
          52177,
          62065,
          68099,
          63478,
          97999,
          180000,
          49920,
          55425,
          69340,
          64995,
          68182,
          51908,
          61242,
          45069,
          60724,
          60436,
          105700,
          63322,
          61154,
          68999,
          250000,
          54005,
          45433,
          66074,
          81584,
          63676,
          77915,
          52624,
          51777,
          67237,
          73330,
          52057,
          47434,
          45395,
          62385,
          68407,
          61349,
          105688,
          54132,
          55315,
          62810,
          62659,
          55688,
          72460,
          52599,
          63430,
          52984,
          63695,
          62061,
          66738,
          52674,
          71966,
          63051,
          63515,
          60270,
          45998,
          57954,
          74669,
          74226,
          93554,
          61844,
          46799,
          46430,
          95920,
          46738,
          64971,
          61422,
          89883,
          120000,
          150290,
          60627,
          86214,
          47750,
          56147,
          50923,
          50750,
          52087,
          51920,
          63878,
          55000,
          58939,
          66593,
          64021,
          65714,
          62425,
          47961,
          60120,
          63682,
          59238,
          60754,
          72202,
          58370,
          48413,
          56339,
          63025,
          74813,
          57859,
          49773,
          62068,
          80512,
          50274,
          107226,
          58062,
          59728,
          60446,
          48513,
          220450,
          89292,
          45046
         ],
         "xaxis": "x",
         "yaxis": "y"
        },
        {
         "alignmentgroup": "True",
         "boxpoints": "all",
         "fillcolor": "rgba(255,255,255,0)",
         "hoveron": "points",
         "hovertemplate": "Sex=F<br>Salary=%{x}<extra></extra>",
         "jitter": 0,
         "legendgroup": "F",
         "line": {
          "color": "rgba(255,255,255,0)"
         },
         "marker": {
          "color": "#EF553B",
          "symbol": "line-ns-open"
         },
         "name": "F",
         "offsetgroup": "F",
         "showlegend": false,
         "type": "box",
         "x": [
          64955,
          64991,
          50825,
          57568,
          95660,
          47837,
          54670,
          70131,
          59026,
          110000,
          64919,
          62910,
          66441,
          57815,
          106367,
          53492,
          63000,
          64375,
          74326,
          63763,
          93396,
          100031,
          71860,
          61656,
          54237,
          64786,
          64816,
          64066,
          63381,
          56149,
          65729,
          85028,
          57583,
          101199,
          58275,
          59231,
          61584,
          46335,
          70621,
          74241,
          75188,
          62514,
          60070,
          56847,
          59124,
          99280,
          71776,
          65902,
          57748,
          58530,
          55965,
          99351,
          65707,
          53171,
          51337,
          51505,
          59370,
          57815,
          61555,
          114800,
          53018,
          61242,
          66825,
          66149,
          49256,
          63813,
          54828,
          52177,
          62065,
          68099,
          63478,
          97999,
          180000,
          49920,
          55425,
          69340,
          64995,
          68182,
          51908,
          61242,
          45069,
          60724,
          60436,
          105700,
          63322,
          61154,
          68999,
          250000,
          54005,
          45433,
          66074,
          81584,
          63676,
          77915,
          52624,
          51777,
          67237,
          73330,
          52057,
          47434,
          45395,
          62385,
          68407,
          61349,
          105688,
          54132,
          55315,
          62810,
          62659,
          55688,
          72460,
          52599,
          63430,
          52984,
          63695,
          62061,
          66738,
          52674,
          71966,
          63051,
          63515,
          60270,
          45998,
          57954,
          74669,
          74226,
          93554,
          61844,
          46799,
          46430,
          95920,
          46738,
          64971,
          61422,
          89883,
          120000,
          150290,
          60627,
          86214,
          47750,
          56147,
          50923,
          50750,
          52087,
          51920,
          63878,
          55000,
          58939,
          66593,
          64021,
          65714,
          62425,
          47961,
          60120,
          63682,
          59238,
          60754,
          72202,
          58370,
          48413,
          56339,
          63025,
          74813,
          57859,
          49773,
          62068,
          80512,
          50274,
          107226,
          58062,
          59728,
          60446,
          48513,
          220450,
          89292,
          45046
         ],
         "xaxis": "x2",
         "yaxis": "y2"
        }
       ],
       "layout": {
        "barmode": "relative",
        "legend": {
         "title": {
          "text": "Sex"
         },
         "tracegroupgap": 0
        },
        "template": {
         "data": {
          "bar": [
           {
            "error_x": {
             "color": "#2a3f5f"
            },
            "error_y": {
             "color": "#2a3f5f"
            },
            "marker": {
             "line": {
              "color": "#E5ECF6",
              "width": 0.5
             },
             "pattern": {
              "fillmode": "overlay",
              "size": 10,
              "solidity": 0.2
             }
            },
            "type": "bar"
           }
          ],
          "barpolar": [
           {
            "marker": {
             "line": {
              "color": "#E5ECF6",
              "width": 0.5
             },
             "pattern": {
              "fillmode": "overlay",
              "size": 10,
              "solidity": 0.2
             }
            },
            "type": "barpolar"
           }
          ],
          "carpet": [
           {
            "aaxis": {
             "endlinecolor": "#2a3f5f",
             "gridcolor": "white",
             "linecolor": "white",
             "minorgridcolor": "white",
             "startlinecolor": "#2a3f5f"
            },
            "baxis": {
             "endlinecolor": "#2a3f5f",
             "gridcolor": "white",
             "linecolor": "white",
             "minorgridcolor": "white",
             "startlinecolor": "#2a3f5f"
            },
            "type": "carpet"
           }
          ],
          "choropleth": [
           {
            "colorbar": {
             "outlinewidth": 0,
             "ticks": ""
            },
            "type": "choropleth"
           }
          ],
          "contour": [
           {
            "colorbar": {
             "outlinewidth": 0,
             "ticks": ""
            },
            "colorscale": [
             [
              0,
              "#0d0887"
             ],
             [
              0.1111111111111111,
              "#46039f"
             ],
             [
              0.2222222222222222,
              "#7201a8"
             ],
             [
              0.3333333333333333,
              "#9c179e"
             ],
             [
              0.4444444444444444,
              "#bd3786"
             ],
             [
              0.5555555555555556,
              "#d8576b"
             ],
             [
              0.6666666666666666,
              "#ed7953"
             ],
             [
              0.7777777777777778,
              "#fb9f3a"
             ],
             [
              0.8888888888888888,
              "#fdca26"
             ],
             [
              1,
              "#f0f921"
             ]
            ],
            "type": "contour"
           }
          ],
          "contourcarpet": [
           {
            "colorbar": {
             "outlinewidth": 0,
             "ticks": ""
            },
            "type": "contourcarpet"
           }
          ],
          "heatmap": [
           {
            "colorbar": {
             "outlinewidth": 0,
             "ticks": ""
            },
            "colorscale": [
             [
              0,
              "#0d0887"
             ],
             [
              0.1111111111111111,
              "#46039f"
             ],
             [
              0.2222222222222222,
              "#7201a8"
             ],
             [
              0.3333333333333333,
              "#9c179e"
             ],
             [
              0.4444444444444444,
              "#bd3786"
             ],
             [
              0.5555555555555556,
              "#d8576b"
             ],
             [
              0.6666666666666666,
              "#ed7953"
             ],
             [
              0.7777777777777778,
              "#fb9f3a"
             ],
             [
              0.8888888888888888,
              "#fdca26"
             ],
             [
              1,
              "#f0f921"
             ]
            ],
            "type": "heatmap"
           }
          ],
          "heatmapgl": [
           {
            "colorbar": {
             "outlinewidth": 0,
             "ticks": ""
            },
            "colorscale": [
             [
              0,
              "#0d0887"
             ],
             [
              0.1111111111111111,
              "#46039f"
             ],
             [
              0.2222222222222222,
              "#7201a8"
             ],
             [
              0.3333333333333333,
              "#9c179e"
             ],
             [
              0.4444444444444444,
              "#bd3786"
             ],
             [
              0.5555555555555556,
              "#d8576b"
             ],
             [
              0.6666666666666666,
              "#ed7953"
             ],
             [
              0.7777777777777778,
              "#fb9f3a"
             ],
             [
              0.8888888888888888,
              "#fdca26"
             ],
             [
              1,
              "#f0f921"
             ]
            ],
            "type": "heatmapgl"
           }
          ],
          "histogram": [
           {
            "marker": {
             "pattern": {
              "fillmode": "overlay",
              "size": 10,
              "solidity": 0.2
             }
            },
            "type": "histogram"
           }
          ],
          "histogram2d": [
           {
            "colorbar": {
             "outlinewidth": 0,
             "ticks": ""
            },
            "colorscale": [
             [
              0,
              "#0d0887"
             ],
             [
              0.1111111111111111,
              "#46039f"
             ],
             [
              0.2222222222222222,
              "#7201a8"
             ],
             [
              0.3333333333333333,
              "#9c179e"
             ],
             [
              0.4444444444444444,
              "#bd3786"
             ],
             [
              0.5555555555555556,
              "#d8576b"
             ],
             [
              0.6666666666666666,
              "#ed7953"
             ],
             [
              0.7777777777777778,
              "#fb9f3a"
             ],
             [
              0.8888888888888888,
              "#fdca26"
             ],
             [
              1,
              "#f0f921"
             ]
            ],
            "type": "histogram2d"
           }
          ],
          "histogram2dcontour": [
           {
            "colorbar": {
             "outlinewidth": 0,
             "ticks": ""
            },
            "colorscale": [
             [
              0,
              "#0d0887"
             ],
             [
              0.1111111111111111,
              "#46039f"
             ],
             [
              0.2222222222222222,
              "#7201a8"
             ],
             [
              0.3333333333333333,
              "#9c179e"
             ],
             [
              0.4444444444444444,
              "#bd3786"
             ],
             [
              0.5555555555555556,
              "#d8576b"
             ],
             [
              0.6666666666666666,
              "#ed7953"
             ],
             [
              0.7777777777777778,
              "#fb9f3a"
             ],
             [
              0.8888888888888888,
              "#fdca26"
             ],
             [
              1,
              "#f0f921"
             ]
            ],
            "type": "histogram2dcontour"
           }
          ],
          "mesh3d": [
           {
            "colorbar": {
             "outlinewidth": 0,
             "ticks": ""
            },
            "type": "mesh3d"
           }
          ],
          "parcoords": [
           {
            "line": {
             "colorbar": {
              "outlinewidth": 0,
              "ticks": ""
             }
            },
            "type": "parcoords"
           }
          ],
          "pie": [
           {
            "automargin": true,
            "type": "pie"
           }
          ],
          "scatter": [
           {
            "fillpattern": {
             "fillmode": "overlay",
             "size": 10,
             "solidity": 0.2
            },
            "type": "scatter"
           }
          ],
          "scatter3d": [
           {
            "line": {
             "colorbar": {
              "outlinewidth": 0,
              "ticks": ""
             }
            },
            "marker": {
             "colorbar": {
              "outlinewidth": 0,
              "ticks": ""
             }
            },
            "type": "scatter3d"
           }
          ],
          "scattercarpet": [
           {
            "marker": {
             "colorbar": {
              "outlinewidth": 0,
              "ticks": ""
             }
            },
            "type": "scattercarpet"
           }
          ],
          "scattergeo": [
           {
            "marker": {
             "colorbar": {
              "outlinewidth": 0,
              "ticks": ""
             }
            },
            "type": "scattergeo"
           }
          ],
          "scattergl": [
           {
            "marker": {
             "colorbar": {
              "outlinewidth": 0,
              "ticks": ""
             }
            },
            "type": "scattergl"
           }
          ],
          "scattermapbox": [
           {
            "marker": {
             "colorbar": {
              "outlinewidth": 0,
              "ticks": ""
             }
            },
            "type": "scattermapbox"
           }
          ],
          "scatterpolar": [
           {
            "marker": {
             "colorbar": {
              "outlinewidth": 0,
              "ticks": ""
             }
            },
            "type": "scatterpolar"
           }
          ],
          "scatterpolargl": [
           {
            "marker": {
             "colorbar": {
              "outlinewidth": 0,
              "ticks": ""
             }
            },
            "type": "scatterpolargl"
           }
          ],
          "scatterternary": [
           {
            "marker": {
             "colorbar": {
              "outlinewidth": 0,
              "ticks": ""
             }
            },
            "type": "scatterternary"
           }
          ],
          "surface": [
           {
            "colorbar": {
             "outlinewidth": 0,
             "ticks": ""
            },
            "colorscale": [
             [
              0,
              "#0d0887"
             ],
             [
              0.1111111111111111,
              "#46039f"
             ],
             [
              0.2222222222222222,
              "#7201a8"
             ],
             [
              0.3333333333333333,
              "#9c179e"
             ],
             [
              0.4444444444444444,
              "#bd3786"
             ],
             [
              0.5555555555555556,
              "#d8576b"
             ],
             [
              0.6666666666666666,
              "#ed7953"
             ],
             [
              0.7777777777777778,
              "#fb9f3a"
             ],
             [
              0.8888888888888888,
              "#fdca26"
             ],
             [
              1,
              "#f0f921"
             ]
            ],
            "type": "surface"
           }
          ],
          "table": [
           {
            "cells": {
             "fill": {
              "color": "#EBF0F8"
             },
             "line": {
              "color": "white"
             }
            },
            "header": {
             "fill": {
              "color": "#C8D4E3"
             },
             "line": {
              "color": "white"
             }
            },
            "type": "table"
           }
          ]
         },
         "layout": {
          "annotationdefaults": {
           "arrowcolor": "#2a3f5f",
           "arrowhead": 0,
           "arrowwidth": 1
          },
          "autotypenumbers": "strict",
          "coloraxis": {
           "colorbar": {
            "outlinewidth": 0,
            "ticks": ""
           }
          },
          "colorscale": {
           "diverging": [
            [
             0,
             "#8e0152"
            ],
            [
             0.1,
             "#c51b7d"
            ],
            [
             0.2,
             "#de77ae"
            ],
            [
             0.3,
             "#f1b6da"
            ],
            [
             0.4,
             "#fde0ef"
            ],
            [
             0.5,
             "#f7f7f7"
            ],
            [
             0.6,
             "#e6f5d0"
            ],
            [
             0.7,
             "#b8e186"
            ],
            [
             0.8,
             "#7fbc41"
            ],
            [
             0.9,
             "#4d9221"
            ],
            [
             1,
             "#276419"
            ]
           ],
           "sequential": [
            [
             0,
             "#0d0887"
            ],
            [
             0.1111111111111111,
             "#46039f"
            ],
            [
             0.2222222222222222,
             "#7201a8"
            ],
            [
             0.3333333333333333,
             "#9c179e"
            ],
            [
             0.4444444444444444,
             "#bd3786"
            ],
            [
             0.5555555555555556,
             "#d8576b"
            ],
            [
             0.6666666666666666,
             "#ed7953"
            ],
            [
             0.7777777777777778,
             "#fb9f3a"
            ],
            [
             0.8888888888888888,
             "#fdca26"
            ],
            [
             1,
             "#f0f921"
            ]
           ],
           "sequentialminus": [
            [
             0,
             "#0d0887"
            ],
            [
             0.1111111111111111,
             "#46039f"
            ],
            [
             0.2222222222222222,
             "#7201a8"
            ],
            [
             0.3333333333333333,
             "#9c179e"
            ],
            [
             0.4444444444444444,
             "#bd3786"
            ],
            [
             0.5555555555555556,
             "#d8576b"
            ],
            [
             0.6666666666666666,
             "#ed7953"
            ],
            [
             0.7777777777777778,
             "#fb9f3a"
            ],
            [
             0.8888888888888888,
             "#fdca26"
            ],
            [
             1,
             "#f0f921"
            ]
           ]
          },
          "colorway": [
           "#636efa",
           "#EF553B",
           "#00cc96",
           "#ab63fa",
           "#FFA15A",
           "#19d3f3",
           "#FF6692",
           "#B6E880",
           "#FF97FF",
           "#FECB52"
          ],
          "font": {
           "color": "#2a3f5f"
          },
          "geo": {
           "bgcolor": "white",
           "lakecolor": "white",
           "landcolor": "#E5ECF6",
           "showlakes": true,
           "showland": true,
           "subunitcolor": "white"
          },
          "hoverlabel": {
           "align": "left"
          },
          "hovermode": "closest",
          "mapbox": {
           "style": "light"
          },
          "paper_bgcolor": "white",
          "plot_bgcolor": "#E5ECF6",
          "polar": {
           "angularaxis": {
            "gridcolor": "white",
            "linecolor": "white",
            "ticks": ""
           },
           "bgcolor": "#E5ECF6",
           "radialaxis": {
            "gridcolor": "white",
            "linecolor": "white",
            "ticks": ""
           }
          },
          "scene": {
           "xaxis": {
            "backgroundcolor": "#E5ECF6",
            "gridcolor": "white",
            "gridwidth": 2,
            "linecolor": "white",
            "showbackground": true,
            "ticks": "",
            "zerolinecolor": "white"
           },
           "yaxis": {
            "backgroundcolor": "#E5ECF6",
            "gridcolor": "white",
            "gridwidth": 2,
            "linecolor": "white",
            "showbackground": true,
            "ticks": "",
            "zerolinecolor": "white"
           },
           "zaxis": {
            "backgroundcolor": "#E5ECF6",
            "gridcolor": "white",
            "gridwidth": 2,
            "linecolor": "white",
            "showbackground": true,
            "ticks": "",
            "zerolinecolor": "white"
           }
          },
          "shapedefaults": {
           "line": {
            "color": "#2a3f5f"
           }
          },
          "ternary": {
           "aaxis": {
            "gridcolor": "white",
            "linecolor": "white",
            "ticks": ""
           },
           "baxis": {
            "gridcolor": "white",
            "linecolor": "white",
            "ticks": ""
           },
           "bgcolor": "#E5ECF6",
           "caxis": {
            "gridcolor": "white",
            "linecolor": "white",
            "ticks": ""
           }
          },
          "title": {
           "x": 0.05
          },
          "xaxis": {
           "automargin": true,
           "gridcolor": "white",
           "linecolor": "white",
           "ticks": "",
           "title": {
            "standoff": 15
           },
           "zerolinecolor": "white",
           "zerolinewidth": 2
          },
          "yaxis": {
           "automargin": true,
           "gridcolor": "white",
           "linecolor": "white",
           "ticks": "",
           "title": {
            "standoff": 15
           },
           "zerolinecolor": "white",
           "zerolinewidth": 2
          }
         }
        },
        "title": {
         "text": "Histogram of Salary by Gender"
        },
        "xaxis": {
         "anchor": "y",
         "domain": [
          0,
          1
         ],
         "title": {
          "text": "Salary"
         }
        },
        "xaxis2": {
         "anchor": "y2",
         "domain": [
          0,
          1
         ],
         "matches": "x",
         "showgrid": true,
         "showticklabels": false
        },
        "yaxis": {
         "anchor": "x",
         "domain": [
          0,
          0.7326
         ],
         "title": {
          "text": "count"
         }
        },
        "yaxis2": {
         "anchor": "x2",
         "domain": [
          0.7426,
          1
         ],
         "matches": "y2",
         "showgrid": false,
         "showline": false,
         "showticklabels": false,
         "ticks": ""
        }
       }
      }
     },
     "metadata": {},
     "output_type": "display_data"
    }
   ],
   "source": [
    "# histogram of salary by gender just to see if there's pay disparities\n",
    "fig_hist = px.histogram(df,\n",
    "                        x='Salary',\n",
    "                        color='Sex',\n",
    "                        marginal='rug',\n",
    "                        title='Histogram of Salary by Gender')\n",
    "\n",
    "# show \n",
    "fig_hist.show()\n",
    "                    "
   ]
  },
  {
   "cell_type": "markdown",
   "metadata": {},
   "source": [
    "This indicates that most employees, regardless of gender, have salaries in the lower range of the dataset, with the highest concentration of employees earning between $50k and $60k approximately\n",
    "\n",
    "There seems to be a significant representation of both genders in the lower salary ranges!"
   ]
  },
  {
   "cell_type": "code",
   "execution_count": 99,
   "metadata": {},
   "outputs": [
    {
     "data": {
      "application/vnd.plotly.v1+json": {
       "config": {
        "plotlyServerURL": "https://plot.ly"
       },
       "data": [
        {
         "alignmentgroup": "True",
         "hovertemplate": "Salary=%{y}<extra></extra>",
         "legendgroup": "",
         "marker": {
          "color": "#636efa"
         },
         "name": "",
         "notched": false,
         "offsetgroup": "",
         "orientation": "v",
         "showlegend": false,
         "type": "box",
         "x0": " ",
         "xaxis": "x",
         "y": [
          62506,
          104437,
          64955,
          64991,
          50825,
          57568,
          95660,
          59365,
          47837,
          50178,
          54670,
          47211,
          92328,
          58709,
          52505,
          57834,
          70131,
          59026,
          110000,
          53250,
          51044,
          64919,
          62910,
          66441,
          57815,
          103613,
          106367,
          74312,
          53492,
          63000,
          65288,
          64375,
          74326,
          63763,
          62162,
          77692,
          72640,
          93396,
          52846,
          100031,
          71860,
          61656,
          110929,
          54237,
          60380,
          66808,
          64786,
          64816,
          68678,
          64066,
          59369,
          50373,
          63108,
          59144,
          68051,
          170500,
          63381,
          83552,
          56149,
          92329,
          65729,
          85028,
          57583,
          56294,
          56991,
          55722,
          101199,
          61568,
          58275,
          53189,
          96820,
          51259,
          59231,
          61584,
          46335,
          70621,
          138888,
          74241,
          75188,
          62514,
          60070,
          48888,
          54285,
          56847,
          60340,
          59124,
          99280,
          71776,
          65902,
          57748,
          64057,
          53366,
          58530,
          72609,
          55965,
          70187,
          178000,
          99351,
          67251,
          65707,
          52249,
          53171,
          51337,
          51505,
          59370,
          54933,
          57815,
          61555,
          114800,
          74679,
          53018,
          59892,
          68898,
          61242,
          66825,
          48285,
          66149,
          49256,
          62957,
          63813,
          99020,
          71707,
          54828,
          64246,
          52177,
          62065,
          46998,
          68099,
          70545,
          63478,
          97999,
          180000,
          49920,
          55425,
          69340,
          64995,
          68182,
          83082,
          51908,
          61242,
          45069,
          60724,
          60436,
          46837,
          105700,
          63322,
          61154,
          68999,
          50482,
          65310,
          250000,
          54005,
          45433,
          46654,
          63973,
          71339,
          93206,
          82758,
          66074,
          46120,
          64520,
          61962,
          81584,
          63676,
          93046,
          64738,
          70468,
          77915,
          52624,
          63450,
          51777,
          67237,
          73330,
          52057,
          47434,
          52788,
          45395,
          62385,
          68407,
          61349,
          105688,
          54132,
          55315,
          62810,
          63291,
          62659,
          55688,
          83667,
          55800,
          58207,
          157000,
          72460,
          72106,
          52599,
          63430,
          74417,
          57575,
          87921,
          50470,
          46664,
          48495,
          52984,
          63695,
          62061,
          66738,
          52674,
          71966,
          63051,
          47414,
          53060,
          68829,
          63515,
          108987,
          93093,
          53564,
          60270,
          45998,
          57954,
          74669,
          74226,
          93554,
          64724,
          47001,
          61844,
          46799,
          59472,
          46430,
          83363,
          95920,
          61729,
          61809,
          45115,
          46738,
          64971,
          55578,
          50428,
          61422,
          63353,
          89883,
          120000,
          150290,
          60627,
          53180,
          140920,
          148999,
          86214,
          47750,
          46428,
          57975,
          88527,
          56147,
          50923,
          50750,
          52087,
          87826,
          51920,
          63878,
          60656,
          72992,
          55000,
          58939,
          66593,
          87565,
          64021,
          65714,
          62425,
          47961,
          58273,
          63003,
          61355,
          60120,
          63682,
          63025,
          59238,
          92989,
          90100,
          60754,
          72202,
          58370,
          48413,
          67176,
          56339,
          64397,
          63025,
          75281,
          100416,
          74813,
          76029,
          57859,
          58523,
          88976,
          55875,
          113999,
          49773,
          62068,
          66541,
          80512,
          50274,
          84903,
          107226,
          58371,
          55140,
          58062,
          59728,
          70507,
          60446,
          65893,
          48513,
          220450,
          89292,
          45046
         ],
         "y0": " ",
         "yaxis": "y"
        }
       ],
       "layout": {
        "boxmode": "group",
        "legend": {
         "tracegroupgap": 0
        },
        "template": {
         "data": {
          "bar": [
           {
            "error_x": {
             "color": "#2a3f5f"
            },
            "error_y": {
             "color": "#2a3f5f"
            },
            "marker": {
             "line": {
              "color": "#E5ECF6",
              "width": 0.5
             },
             "pattern": {
              "fillmode": "overlay",
              "size": 10,
              "solidity": 0.2
             }
            },
            "type": "bar"
           }
          ],
          "barpolar": [
           {
            "marker": {
             "line": {
              "color": "#E5ECF6",
              "width": 0.5
             },
             "pattern": {
              "fillmode": "overlay",
              "size": 10,
              "solidity": 0.2
             }
            },
            "type": "barpolar"
           }
          ],
          "carpet": [
           {
            "aaxis": {
             "endlinecolor": "#2a3f5f",
             "gridcolor": "white",
             "linecolor": "white",
             "minorgridcolor": "white",
             "startlinecolor": "#2a3f5f"
            },
            "baxis": {
             "endlinecolor": "#2a3f5f",
             "gridcolor": "white",
             "linecolor": "white",
             "minorgridcolor": "white",
             "startlinecolor": "#2a3f5f"
            },
            "type": "carpet"
           }
          ],
          "choropleth": [
           {
            "colorbar": {
             "outlinewidth": 0,
             "ticks": ""
            },
            "type": "choropleth"
           }
          ],
          "contour": [
           {
            "colorbar": {
             "outlinewidth": 0,
             "ticks": ""
            },
            "colorscale": [
             [
              0,
              "#0d0887"
             ],
             [
              0.1111111111111111,
              "#46039f"
             ],
             [
              0.2222222222222222,
              "#7201a8"
             ],
             [
              0.3333333333333333,
              "#9c179e"
             ],
             [
              0.4444444444444444,
              "#bd3786"
             ],
             [
              0.5555555555555556,
              "#d8576b"
             ],
             [
              0.6666666666666666,
              "#ed7953"
             ],
             [
              0.7777777777777778,
              "#fb9f3a"
             ],
             [
              0.8888888888888888,
              "#fdca26"
             ],
             [
              1,
              "#f0f921"
             ]
            ],
            "type": "contour"
           }
          ],
          "contourcarpet": [
           {
            "colorbar": {
             "outlinewidth": 0,
             "ticks": ""
            },
            "type": "contourcarpet"
           }
          ],
          "heatmap": [
           {
            "colorbar": {
             "outlinewidth": 0,
             "ticks": ""
            },
            "colorscale": [
             [
              0,
              "#0d0887"
             ],
             [
              0.1111111111111111,
              "#46039f"
             ],
             [
              0.2222222222222222,
              "#7201a8"
             ],
             [
              0.3333333333333333,
              "#9c179e"
             ],
             [
              0.4444444444444444,
              "#bd3786"
             ],
             [
              0.5555555555555556,
              "#d8576b"
             ],
             [
              0.6666666666666666,
              "#ed7953"
             ],
             [
              0.7777777777777778,
              "#fb9f3a"
             ],
             [
              0.8888888888888888,
              "#fdca26"
             ],
             [
              1,
              "#f0f921"
             ]
            ],
            "type": "heatmap"
           }
          ],
          "heatmapgl": [
           {
            "colorbar": {
             "outlinewidth": 0,
             "ticks": ""
            },
            "colorscale": [
             [
              0,
              "#0d0887"
             ],
             [
              0.1111111111111111,
              "#46039f"
             ],
             [
              0.2222222222222222,
              "#7201a8"
             ],
             [
              0.3333333333333333,
              "#9c179e"
             ],
             [
              0.4444444444444444,
              "#bd3786"
             ],
             [
              0.5555555555555556,
              "#d8576b"
             ],
             [
              0.6666666666666666,
              "#ed7953"
             ],
             [
              0.7777777777777778,
              "#fb9f3a"
             ],
             [
              0.8888888888888888,
              "#fdca26"
             ],
             [
              1,
              "#f0f921"
             ]
            ],
            "type": "heatmapgl"
           }
          ],
          "histogram": [
           {
            "marker": {
             "pattern": {
              "fillmode": "overlay",
              "size": 10,
              "solidity": 0.2
             }
            },
            "type": "histogram"
           }
          ],
          "histogram2d": [
           {
            "colorbar": {
             "outlinewidth": 0,
             "ticks": ""
            },
            "colorscale": [
             [
              0,
              "#0d0887"
             ],
             [
              0.1111111111111111,
              "#46039f"
             ],
             [
              0.2222222222222222,
              "#7201a8"
             ],
             [
              0.3333333333333333,
              "#9c179e"
             ],
             [
              0.4444444444444444,
              "#bd3786"
             ],
             [
              0.5555555555555556,
              "#d8576b"
             ],
             [
              0.6666666666666666,
              "#ed7953"
             ],
             [
              0.7777777777777778,
              "#fb9f3a"
             ],
             [
              0.8888888888888888,
              "#fdca26"
             ],
             [
              1,
              "#f0f921"
             ]
            ],
            "type": "histogram2d"
           }
          ],
          "histogram2dcontour": [
           {
            "colorbar": {
             "outlinewidth": 0,
             "ticks": ""
            },
            "colorscale": [
             [
              0,
              "#0d0887"
             ],
             [
              0.1111111111111111,
              "#46039f"
             ],
             [
              0.2222222222222222,
              "#7201a8"
             ],
             [
              0.3333333333333333,
              "#9c179e"
             ],
             [
              0.4444444444444444,
              "#bd3786"
             ],
             [
              0.5555555555555556,
              "#d8576b"
             ],
             [
              0.6666666666666666,
              "#ed7953"
             ],
             [
              0.7777777777777778,
              "#fb9f3a"
             ],
             [
              0.8888888888888888,
              "#fdca26"
             ],
             [
              1,
              "#f0f921"
             ]
            ],
            "type": "histogram2dcontour"
           }
          ],
          "mesh3d": [
           {
            "colorbar": {
             "outlinewidth": 0,
             "ticks": ""
            },
            "type": "mesh3d"
           }
          ],
          "parcoords": [
           {
            "line": {
             "colorbar": {
              "outlinewidth": 0,
              "ticks": ""
             }
            },
            "type": "parcoords"
           }
          ],
          "pie": [
           {
            "automargin": true,
            "type": "pie"
           }
          ],
          "scatter": [
           {
            "fillpattern": {
             "fillmode": "overlay",
             "size": 10,
             "solidity": 0.2
            },
            "type": "scatter"
           }
          ],
          "scatter3d": [
           {
            "line": {
             "colorbar": {
              "outlinewidth": 0,
              "ticks": ""
             }
            },
            "marker": {
             "colorbar": {
              "outlinewidth": 0,
              "ticks": ""
             }
            },
            "type": "scatter3d"
           }
          ],
          "scattercarpet": [
           {
            "marker": {
             "colorbar": {
              "outlinewidth": 0,
              "ticks": ""
             }
            },
            "type": "scattercarpet"
           }
          ],
          "scattergeo": [
           {
            "marker": {
             "colorbar": {
              "outlinewidth": 0,
              "ticks": ""
             }
            },
            "type": "scattergeo"
           }
          ],
          "scattergl": [
           {
            "marker": {
             "colorbar": {
              "outlinewidth": 0,
              "ticks": ""
             }
            },
            "type": "scattergl"
           }
          ],
          "scattermapbox": [
           {
            "marker": {
             "colorbar": {
              "outlinewidth": 0,
              "ticks": ""
             }
            },
            "type": "scattermapbox"
           }
          ],
          "scatterpolar": [
           {
            "marker": {
             "colorbar": {
              "outlinewidth": 0,
              "ticks": ""
             }
            },
            "type": "scatterpolar"
           }
          ],
          "scatterpolargl": [
           {
            "marker": {
             "colorbar": {
              "outlinewidth": 0,
              "ticks": ""
             }
            },
            "type": "scatterpolargl"
           }
          ],
          "scatterternary": [
           {
            "marker": {
             "colorbar": {
              "outlinewidth": 0,
              "ticks": ""
             }
            },
            "type": "scatterternary"
           }
          ],
          "surface": [
           {
            "colorbar": {
             "outlinewidth": 0,
             "ticks": ""
            },
            "colorscale": [
             [
              0,
              "#0d0887"
             ],
             [
              0.1111111111111111,
              "#46039f"
             ],
             [
              0.2222222222222222,
              "#7201a8"
             ],
             [
              0.3333333333333333,
              "#9c179e"
             ],
             [
              0.4444444444444444,
              "#bd3786"
             ],
             [
              0.5555555555555556,
              "#d8576b"
             ],
             [
              0.6666666666666666,
              "#ed7953"
             ],
             [
              0.7777777777777778,
              "#fb9f3a"
             ],
             [
              0.8888888888888888,
              "#fdca26"
             ],
             [
              1,
              "#f0f921"
             ]
            ],
            "type": "surface"
           }
          ],
          "table": [
           {
            "cells": {
             "fill": {
              "color": "#EBF0F8"
             },
             "line": {
              "color": "white"
             }
            },
            "header": {
             "fill": {
              "color": "#C8D4E3"
             },
             "line": {
              "color": "white"
             }
            },
            "type": "table"
           }
          ]
         },
         "layout": {
          "annotationdefaults": {
           "arrowcolor": "#2a3f5f",
           "arrowhead": 0,
           "arrowwidth": 1
          },
          "autotypenumbers": "strict",
          "coloraxis": {
           "colorbar": {
            "outlinewidth": 0,
            "ticks": ""
           }
          },
          "colorscale": {
           "diverging": [
            [
             0,
             "#8e0152"
            ],
            [
             0.1,
             "#c51b7d"
            ],
            [
             0.2,
             "#de77ae"
            ],
            [
             0.3,
             "#f1b6da"
            ],
            [
             0.4,
             "#fde0ef"
            ],
            [
             0.5,
             "#f7f7f7"
            ],
            [
             0.6,
             "#e6f5d0"
            ],
            [
             0.7,
             "#b8e186"
            ],
            [
             0.8,
             "#7fbc41"
            ],
            [
             0.9,
             "#4d9221"
            ],
            [
             1,
             "#276419"
            ]
           ],
           "sequential": [
            [
             0,
             "#0d0887"
            ],
            [
             0.1111111111111111,
             "#46039f"
            ],
            [
             0.2222222222222222,
             "#7201a8"
            ],
            [
             0.3333333333333333,
             "#9c179e"
            ],
            [
             0.4444444444444444,
             "#bd3786"
            ],
            [
             0.5555555555555556,
             "#d8576b"
            ],
            [
             0.6666666666666666,
             "#ed7953"
            ],
            [
             0.7777777777777778,
             "#fb9f3a"
            ],
            [
             0.8888888888888888,
             "#fdca26"
            ],
            [
             1,
             "#f0f921"
            ]
           ],
           "sequentialminus": [
            [
             0,
             "#0d0887"
            ],
            [
             0.1111111111111111,
             "#46039f"
            ],
            [
             0.2222222222222222,
             "#7201a8"
            ],
            [
             0.3333333333333333,
             "#9c179e"
            ],
            [
             0.4444444444444444,
             "#bd3786"
            ],
            [
             0.5555555555555556,
             "#d8576b"
            ],
            [
             0.6666666666666666,
             "#ed7953"
            ],
            [
             0.7777777777777778,
             "#fb9f3a"
            ],
            [
             0.8888888888888888,
             "#fdca26"
            ],
            [
             1,
             "#f0f921"
            ]
           ]
          },
          "colorway": [
           "#636efa",
           "#EF553B",
           "#00cc96",
           "#ab63fa",
           "#FFA15A",
           "#19d3f3",
           "#FF6692",
           "#B6E880",
           "#FF97FF",
           "#FECB52"
          ],
          "font": {
           "color": "#2a3f5f"
          },
          "geo": {
           "bgcolor": "white",
           "lakecolor": "white",
           "landcolor": "#E5ECF6",
           "showlakes": true,
           "showland": true,
           "subunitcolor": "white"
          },
          "hoverlabel": {
           "align": "left"
          },
          "hovermode": "closest",
          "mapbox": {
           "style": "light"
          },
          "paper_bgcolor": "white",
          "plot_bgcolor": "#E5ECF6",
          "polar": {
           "angularaxis": {
            "gridcolor": "white",
            "linecolor": "white",
            "ticks": ""
           },
           "bgcolor": "#E5ECF6",
           "radialaxis": {
            "gridcolor": "white",
            "linecolor": "white",
            "ticks": ""
           }
          },
          "scene": {
           "xaxis": {
            "backgroundcolor": "#E5ECF6",
            "gridcolor": "white",
            "gridwidth": 2,
            "linecolor": "white",
            "showbackground": true,
            "ticks": "",
            "zerolinecolor": "white"
           },
           "yaxis": {
            "backgroundcolor": "#E5ECF6",
            "gridcolor": "white",
            "gridwidth": 2,
            "linecolor": "white",
            "showbackground": true,
            "ticks": "",
            "zerolinecolor": "white"
           },
           "zaxis": {
            "backgroundcolor": "#E5ECF6",
            "gridcolor": "white",
            "gridwidth": 2,
            "linecolor": "white",
            "showbackground": true,
            "ticks": "",
            "zerolinecolor": "white"
           }
          },
          "shapedefaults": {
           "line": {
            "color": "#2a3f5f"
           }
          },
          "ternary": {
           "aaxis": {
            "gridcolor": "white",
            "linecolor": "white",
            "ticks": ""
           },
           "baxis": {
            "gridcolor": "white",
            "linecolor": "white",
            "ticks": ""
           },
           "bgcolor": "#E5ECF6",
           "caxis": {
            "gridcolor": "white",
            "linecolor": "white",
            "ticks": ""
           }
          },
          "title": {
           "x": 0.05
          },
          "xaxis": {
           "automargin": true,
           "gridcolor": "white",
           "linecolor": "white",
           "ticks": "",
           "title": {
            "standoff": 15
           },
           "zerolinecolor": "white",
           "zerolinewidth": 2
          },
          "yaxis": {
           "automargin": true,
           "gridcolor": "white",
           "linecolor": "white",
           "ticks": "",
           "title": {
            "standoff": 15
           },
           "zerolinecolor": "white",
           "zerolinewidth": 2
          }
         }
        },
        "title": {
         "text": "Box Plot of Salary"
        },
        "xaxis": {
         "anchor": "y",
         "domain": [
          0,
          1
         ]
        },
        "yaxis": {
         "anchor": "x",
         "domain": [
          0,
          1
         ],
         "title": {
          "text": "Salary"
         }
        }
       }
      }
     },
     "metadata": {},
     "output_type": "display_data"
    }
   ],
   "source": [
    "# using 'Salary' as the continuous variable, a box plot\n",
    "# lets me see overall gender distribution within the company, particularly in relation to salary\n",
    "fig1 = px.box(df, y='Salary', title='Box Plot of Salary')\n",
    "fig1.show()"
   ]
  },
  {
   "cell_type": "markdown",
   "metadata": {},
   "source": [
    "This box plot looks to be fairly symmetric, suggesting that the salary distribution might be approximately normally distributed, without a strong skew\n",
    "\n",
    "The data ranges from around $50k to over $250k, with the majority of salaries falling between approximately $60k and $100k (the IQR)"
   ]
  },
  {
   "cell_type": "code",
   "execution_count": 100,
   "metadata": {},
   "outputs": [
    {
     "data": {
      "text/plain": [
       "<Axes: xlabel='Salary', ylabel='PerformanceScore'>"
      ]
     },
     "execution_count": 100,
     "metadata": {},
     "output_type": "execute_result"
    },
    {
     "data": {
      "image/png": "[encoded data removed]",
      "text/plain": [
       "<Figure size 640x480 with 1 Axes>"
      ]
     },
     "metadata": {},
     "output_type": "display_data"
    }
   ],
   "source": [
    "# scatterplot of performance score by salary to assess whether the company's salary structure aligns with performance outcomes \n",
    "sns.scatterplot(x='Salary', y='PerformanceScore', data=df)"
   ]
  },
  {
   "cell_type": "markdown",
   "metadata": {},
   "source": [
    "Most of the data points are concentrated within a particular salary range for each performance category. It looks like most employees, regardless of performance score, fall within a similar salary band, with fewer individuals at the very high end of the salary range\n",
    "\n",
    "For outliers, there are some data points that are far away from the main clusters, especially in the \"Exceeds\" and \"Fully Meets\" categories. These are probably high-earning individuals whose salary is significantly higher than their peers\n",
    "\n",
    "Employees in the \"Exceeds\" category seem to have a wide range of salaries, suggesting that high performance may not always correlate with the highest salaries. There are also individuals in the \"Fully Meets\" category with salaries that range into the upper salary levels of the dataset\n",
    "\n",
    "This scatter plot is particularly useful as a first glance for HR and management to assess whether the company's salary structure aligns with performance outcomes and to identify any inconsistencies or areas for review in compensation policies!!"
   ]
  },
  {
   "cell_type": "code",
   "execution_count": 101,
   "metadata": {},
   "outputs": [
    {
     "data": {
      "text/plain": [
       "<Axes: xlabel='MaritalDesc', ylabel='count'>"
      ]
     },
     "execution_count": 101,
     "metadata": {},
     "output_type": "execute_result"
    },
    {
     "data": {
      "image/png": "[encoded data removed]",
      "text/plain": [
       "<Figure size 640x480 with 1 Axes>"
      ]
     },
     "metadata": {},
     "output_type": "display_data"
    }
   ],
   "source": [
    "# seeing marital status against performance can help inform HR policies potentially\n",
    "sns.countplot(df, x='MaritalDesc' ,hue='PerformanceScore')"
   ]
  },
  {
   "cell_type": "markdown",
   "metadata": {},
   "source": [
    "Married employees have the highest counts across all performance scores, followed by single employees. This may indicate that married and single employees make up the majority of the workforce or that these groups tend to have higher performance scores\n",
    "\n",
    "The majority of employees, regardless of their marital status, seem to fall into the 'Fully Meets' performance score category. Very few employees fall into the 'Needs Improvement' and 'PIP' categories, suggesting that most employees are meeting or exceeding performance expectations\n",
    "\n",
    "This visualization can be useful for HR to see if there are any patterns or trends in performance relative to marital status, which may have implications for workplace support, resources allocation, or understanding the demographics of the workforce!"
   ]
  },
  {
   "cell_type": "code",
   "execution_count": 102,
   "metadata": {},
   "outputs": [
    {
     "data": {
      "text/plain": [
       "<Axes: xlabel='RecruitmentSource', ylabel='count'>"
      ]
     },
     "execution_count": 102,
     "metadata": {},
     "output_type": "execute_result"
    },
    {
     "data": {
      "image/png": "[encoded data removed]",
      "text/plain": [
       "<Figure size 1300x700 with 1 Axes>"
      ]
     },
     "metadata": {},
     "output_type": "display_data"
    }
   ],
   "source": [
    "# to see what recruitment channels are more effective!\n",
    "\n",
    "import matplotlib.pyplot as plt\n",
    "dims = (13, 7)\n",
    "# df = mylib.load_data()\n",
    "fig, ax = plt.subplots(figsize=dims)\n",
    "\n",
    "sns.countplot(df,ax=ax, x='RecruitmentSource' ,hue='PerformanceScore')"
   ]
  },
  {
   "cell_type": "markdown",
   "metadata": {},
   "source": [
    "Indeed and LinkedIn seem to be the most effective sources for recruitment, as they have the highest count of employees who 'Fully Meets' performance scores\n",
    "\n",
    "While 'Diversity Job Fair' has a lower total count compared to LinkedIn and Indeed, it seems to bring in employees who mostly 'Fully Meet' their performance expectations, indicating quality hires\n",
    "\n",
    "This visual helps inform future recruitment strategies and budget allocation!"
   ]
  },
  {
   "cell_type": "code",
   "execution_count": 103,
   "metadata": {},
   "outputs": [
    {
     "data": {
      "text/html": [
       "<div>\n",
       "<style scoped>\n",
       "    .dataframe tbody tr th:only-of-type {\n",
       "        vertical-align: middle;\n",
       "    }\n",
       "\n",
       "    .dataframe tbody tr th {\n",
       "        vertical-align: top;\n",
       "    }\n",
       "\n",
       "    .dataframe thead th {\n",
       "        text-align: right;\n",
       "    }\n",
       "</style>\n",
       "<table border=\"1\" class=\"dataframe\">\n",
       "  <thead>\n",
       "    <tr style=\"text-align: right;\">\n",
       "      <th></th>\n",
       "      <th>EmpID</th>\n",
       "      <th>MarriedID</th>\n",
       "      <th>MaritalStatusID</th>\n",
       "      <th>GenderID</th>\n",
       "      <th>EmpStatusID</th>\n",
       "      <th>DeptID</th>\n",
       "      <th>PerfScoreID</th>\n",
       "      <th>FromDiversityJobFairID</th>\n",
       "      <th>Salary</th>\n",
       "      <th>Termd</th>\n",
       "      <th>PositionID</th>\n",
       "      <th>DOB</th>\n",
       "      <th>DateofHire</th>\n",
       "      <th>ManagerID</th>\n",
       "      <th>EngagementSurvey</th>\n",
       "      <th>EmpSatisfaction</th>\n",
       "      <th>LastPerformanceReview_Date</th>\n",
       "      <th>Absences</th>\n",
       "    </tr>\n",
       "  </thead>\n",
       "  <tbody>\n",
       "    <tr>\n",
       "      <th>count</th>\n",
       "      <td>311.000000</td>\n",
       "      <td>311.000000</td>\n",
       "      <td>311.000000</td>\n",
       "      <td>311.000000</td>\n",
       "      <td>311.000000</td>\n",
       "      <td>311.000000</td>\n",
       "      <td>311.000000</td>\n",
       "      <td>311.000000</td>\n",
       "      <td>311.000000</td>\n",
       "      <td>311.000000</td>\n",
       "      <td>311.000000</td>\n",
       "      <td>311</td>\n",
       "      <td>311</td>\n",
       "      <td>311.0</td>\n",
       "      <td>311.000000</td>\n",
       "      <td>311.000000</td>\n",
       "      <td>311</td>\n",
       "      <td>311.000000</td>\n",
       "    </tr>\n",
       "    <tr>\n",
       "      <th>mean</th>\n",
       "      <td>10156.000000</td>\n",
       "      <td>0.398714</td>\n",
       "      <td>0.810289</td>\n",
       "      <td>0.434084</td>\n",
       "      <td>2.392283</td>\n",
       "      <td>4.610932</td>\n",
       "      <td>2.977492</td>\n",
       "      <td>0.093248</td>\n",
       "      <td>69020.684887</td>\n",
       "      <td>0.334405</td>\n",
       "      <td>16.845659</td>\n",
       "      <td>1979-02-06 09:48:02.315112544</td>\n",
       "      <td>2013-02-03 22:50:32.797427712</td>\n",
       "      <td>15.199357</td>\n",
       "      <td>4.110000</td>\n",
       "      <td>3.890675</td>\n",
       "      <td>2017-09-10 21:17:56.527331072</td>\n",
       "      <td>10.237942</td>\n",
       "    </tr>\n",
       "    <tr>\n",
       "      <th>min</th>\n",
       "      <td>10001.000000</td>\n",
       "      <td>0.000000</td>\n",
       "      <td>0.000000</td>\n",
       "      <td>0.000000</td>\n",
       "      <td>1.000000</td>\n",
       "      <td>1.000000</td>\n",
       "      <td>1.000000</td>\n",
       "      <td>0.000000</td>\n",
       "      <td>45046.000000</td>\n",
       "      <td>0.000000</td>\n",
       "      <td>1.000000</td>\n",
       "      <td>1951-01-02 00:00:00</td>\n",
       "      <td>2006-01-09 00:00:00</td>\n",
       "      <td>1.0</td>\n",
       "      <td>1.120000</td>\n",
       "      <td>1.000000</td>\n",
       "      <td>2010-07-14 00:00:00</td>\n",
       "      <td>1.000000</td>\n",
       "    </tr>\n",
       "    <tr>\n",
       "      <th>25%</th>\n",
       "      <td>10078.500000</td>\n",
       "      <td>0.000000</td>\n",
       "      <td>0.000000</td>\n",
       "      <td>0.000000</td>\n",
       "      <td>1.000000</td>\n",
       "      <td>5.000000</td>\n",
       "      <td>3.000000</td>\n",
       "      <td>0.000000</td>\n",
       "      <td>55501.500000</td>\n",
       "      <td>0.000000</td>\n",
       "      <td>18.000000</td>\n",
       "      <td>1973-12-03 00:00:00</td>\n",
       "      <td>2011-07-11 00:00:00</td>\n",
       "      <td>10.0</td>\n",
       "      <td>3.690000</td>\n",
       "      <td>3.000000</td>\n",
       "      <td>2016-03-19 12:00:00</td>\n",
       "      <td>5.000000</td>\n",
       "    </tr>\n",
       "    <tr>\n",
       "      <th>50%</th>\n",
       "      <td>10156.000000</td>\n",
       "      <td>0.000000</td>\n",
       "      <td>1.000000</td>\n",
       "      <td>0.000000</td>\n",
       "      <td>1.000000</td>\n",
       "      <td>5.000000</td>\n",
       "      <td>3.000000</td>\n",
       "      <td>0.000000</td>\n",
       "      <td>62810.000000</td>\n",
       "      <td>0.000000</td>\n",
       "      <td>19.000000</td>\n",
       "      <td>1980-09-30 00:00:00</td>\n",
       "      <td>2013-02-18 00:00:00</td>\n",
       "      <td>16.0</td>\n",
       "      <td>4.280000</td>\n",
       "      <td>4.000000</td>\n",
       "      <td>2019-01-16 00:00:00</td>\n",
       "      <td>10.000000</td>\n",
       "    </tr>\n",
       "    <tr>\n",
       "      <th>75%</th>\n",
       "      <td>10233.500000</td>\n",
       "      <td>1.000000</td>\n",
       "      <td>1.000000</td>\n",
       "      <td>1.000000</td>\n",
       "      <td>5.000000</td>\n",
       "      <td>5.000000</td>\n",
       "      <td>3.000000</td>\n",
       "      <td>0.000000</td>\n",
       "      <td>72036.000000</td>\n",
       "      <td>1.000000</td>\n",
       "      <td>20.000000</td>\n",
       "      <td>1986-05-29 12:00:00</td>\n",
       "      <td>2014-09-23 12:00:00</td>\n",
       "      <td>19.5</td>\n",
       "      <td>4.700000</td>\n",
       "      <td>5.000000</td>\n",
       "      <td>2019-02-04 00:00:00</td>\n",
       "      <td>15.000000</td>\n",
       "    </tr>\n",
       "    <tr>\n",
       "      <th>max</th>\n",
       "      <td>10311.000000</td>\n",
       "      <td>1.000000</td>\n",
       "      <td>4.000000</td>\n",
       "      <td>1.000000</td>\n",
       "      <td>5.000000</td>\n",
       "      <td>6.000000</td>\n",
       "      <td>4.000000</td>\n",
       "      <td>1.000000</td>\n",
       "      <td>250000.000000</td>\n",
       "      <td>1.000000</td>\n",
       "      <td>30.000000</td>\n",
       "      <td>1992-08-17 00:00:00</td>\n",
       "      <td>2018-07-09 00:00:00</td>\n",
       "      <td>39.0</td>\n",
       "      <td>5.000000</td>\n",
       "      <td>5.000000</td>\n",
       "      <td>2019-02-28 00:00:00</td>\n",
       "      <td>20.000000</td>\n",
       "    </tr>\n",
       "    <tr>\n",
       "      <th>std</th>\n",
       "      <td>89.922189</td>\n",
       "      <td>0.490423</td>\n",
       "      <td>0.943239</td>\n",
       "      <td>0.496435</td>\n",
       "      <td>1.794383</td>\n",
       "      <td>1.083487</td>\n",
       "      <td>0.587072</td>\n",
       "      <td>0.291248</td>\n",
       "      <td>25156.636930</td>\n",
       "      <td>0.472542</td>\n",
       "      <td>6.223419</td>\n",
       "      <td>NaN</td>\n",
       "      <td>NaN</td>\n",
       "      <td>8.864507</td>\n",
       "      <td>0.789938</td>\n",
       "      <td>0.909241</td>\n",
       "      <td>NaN</td>\n",
       "      <td>5.852596</td>\n",
       "    </tr>\n",
       "  </tbody>\n",
       "</table>\n",
       "</div>"
      ],
      "text/plain": [
       "              EmpID   MarriedID  MaritalStatusID    GenderID  EmpStatusID  \\\n",
       "count    311.000000  311.000000       311.000000  311.000000   311.000000   \n",
       "mean   10156.000000    0.398714         0.810289    0.434084     2.392283   \n",
       "min    10001.000000    0.000000         0.000000    0.000000     1.000000   \n",
       "25%    10078.500000    0.000000         0.000000    0.000000     1.000000   \n",
       "50%    10156.000000    0.000000         1.000000    0.000000     1.000000   \n",
       "75%    10233.500000    1.000000         1.000000    1.000000     5.000000   \n",
       "max    10311.000000    1.000000         4.000000    1.000000     5.000000   \n",
       "std       89.922189    0.490423         0.943239    0.496435     1.794383   \n",
       "\n",
       "           DeptID  PerfScoreID  FromDiversityJobFairID         Salary  \\\n",
       "count  311.000000   311.000000              311.000000     311.000000   \n",
       "mean     4.610932     2.977492                0.093248   69020.684887   \n",
       "min      1.000000     1.000000                0.000000   45046.000000   \n",
       "25%      5.000000     3.000000                0.000000   55501.500000   \n",
       "50%      5.000000     3.000000                0.000000   62810.000000   \n",
       "75%      5.000000     3.000000                0.000000   72036.000000   \n",
       "max      6.000000     4.000000                1.000000  250000.000000   \n",
       "std      1.083487     0.587072                0.291248   25156.636930   \n",
       "\n",
       "            Termd  PositionID                            DOB  \\\n",
       "count  311.000000  311.000000                            311   \n",
       "mean     0.334405   16.845659  1979-02-06 09:48:02.315112544   \n",
       "min      0.000000    1.000000            1951-01-02 00:00:00   \n",
       "25%      0.000000   18.000000            1973-12-03 00:00:00   \n",
       "50%      0.000000   19.000000            1980-09-30 00:00:00   \n",
       "75%      1.000000   20.000000            1986-05-29 12:00:00   \n",
       "max      1.000000   30.000000            1992-08-17 00:00:00   \n",
       "std      0.472542    6.223419                            NaN   \n",
       "\n",
       "                          DateofHire  ManagerID  EngagementSurvey  \\\n",
       "count                            311      311.0        311.000000   \n",
       "mean   2013-02-03 22:50:32.797427712  15.199357          4.110000   \n",
       "min              2006-01-09 00:00:00        1.0          1.120000   \n",
       "25%              2011-07-11 00:00:00       10.0          3.690000   \n",
       "50%              2013-02-18 00:00:00       16.0          4.280000   \n",
       "75%              2014-09-23 12:00:00       19.5          4.700000   \n",
       "max              2018-07-09 00:00:00       39.0          5.000000   \n",
       "std                              NaN   8.864507          0.789938   \n",
       "\n",
       "       EmpSatisfaction     LastPerformanceReview_Date    Absences  \n",
       "count       311.000000                            311  311.000000  \n",
       "mean          3.890675  2017-09-10 21:17:56.527331072   10.237942  \n",
       "min           1.000000            2010-07-14 00:00:00    1.000000  \n",
       "25%           3.000000            2016-03-19 12:00:00    5.000000  \n",
       "50%           4.000000            2019-01-16 00:00:00   10.000000  \n",
       "75%           5.000000            2019-02-04 00:00:00   15.000000  \n",
       "max           5.000000            2019-02-28 00:00:00   20.000000  \n",
       "std           0.909241                            NaN    5.852596  "
      ]
     },
     "execution_count": 103,
     "metadata": {},
     "output_type": "execute_result"
    }
   ],
   "source": [
    "# this will help me see basic statistics on certain averages, minimums, maximums so I can get a few key takeaways about the company as a whole\n",
    "df.describe()"
   ]
  },
  {
   "cell_type": "markdown",
   "metadata": {},
   "source": [
    "Some key takeaways:\n",
    "\n",
    "Gender: About 43% of the employees are identified as 1 (representing male), suggesting there's a fairly even gender distribution\n",
    "\n",
    "Engagement Survey: Survey scores are high (mean of 4.11 out of 5), indicating generally positive employee engagement \n",
    "\n",
    "Employee Satisfaction: The mean employee satisfaction is high at around 3.89 out of 5\n",
    "\n",
    "Absences: On average employees have been absent about 10 times, with a range from 1 to 20 times"
   ]
  },
  {
   "cell_type": "markdown",
   "metadata": {},
   "source": [
    "#### Data Dictionary"
   ]
  },
  {
   "cell_type": "markdown",
   "metadata": {},
   "source": [
    "| Feature                     | Description                                                               | DataType |\n",
    "|-----------------------------|---------------------------------------------------------------------------|----------|\n",
    "| Employee Name               | Employee’s full name                                                      | Object   |\n",
    "| EmpID                       | Employee ID is unique to each employee                                    | Integer  |\n",
    "| MarriedID                   | Is the person married (1 or 0 for yes or no)                              | Integer  |\n",
    "| MaritalStatusID             | Marital status code that matches the text field MaritalDesc               | Integer  |\n",
    "| GenderID                    | Gender status code that matches the text field Sex                        | Integer  |\n",
    "| EmpStatusID                 | Employment status code that matches text field EmploymentStatus           | Integer  |\n",
    "| DeptID                      | Department ID code that matches the department the employee works in      | Integer  |\n",
    "| PerfScoreID                 | Performance Score code that matches the employee’s most recent performance score | Integer  |\n",
    "| FromDiversityJobFairID      | Was the employee sourced from the Diversity job fair? 1 or 0 for yes or no | Binary   |\n",
    "| Salary                      | The person’s yearly salary. $ U.S. Dollars                                | Integer    |\n",
    "| Termd                       | Has this employee been terminated - 1 or 0                                | Binary   |\n",
    "| PositionID                  | An integer indicating the person’s position                               | Integer  |\n",
    "| Position                    | The text name/title of the position the person has                        | Object     |\n",
    "| DOB                         | Date of Birth for the employee                                            | Date     |\n",
    "| Sex                         | Sex - M or F                                                              | Object    |\n",
    "| MaritalDesc                 | The marital status of the person (divorced, single, widowed, separated, etc) | Object     |\n",
    "| HispanicLatino              | Yes or No field for whether the employee is Hispanic/Latino               | Boolean    |\n",
    "| RaceDesc                    | Description/text of the race the person identifies with                   | Object    |\n",
    "| DateofHire                  | Date the person was hired                                                 | Date     |\n",
    "| DateofTermination           | Date the person was terminated, only populated if, in fact, Termd = 1     | Date     |\n",
    "| TermReason                  | A text reason / description for why the person was terminated             | Object     |\n",
    "| EmploymentStatus            | A description/category of the person’s employment status. Anyone currently working full time = Active | Object     |\n",
    "| Department                  | Name of the department that the person works in                           | Object     |\n",
    "| ManagerName                 | The name of the person’s immediate manager                                | Object    |\n",
    "| ManagerID                   | A unique identifier for each manager.                                     | Integer  |\n",
    "| RecruitmentSource           | The name of the recruitment source where the employee was recruited from  | Object     |\n",
    "| PerformanceScore            | Performance Score text/category (Fully Meets, Partially Meets, PIP, Exceeds) | Object     |\n",
    "| EngagementSurvey            | Results from the last engagement survey, managed by an external partner  | Integer    |\n",
    "| EmpSatisfaction             | A basic satisfaction score between 1 and 5, as reported on a recent employee satisfaction survey | Integer  |\n",
    "| LastPerformanceReviewDate   | The most recent date of the person’s last performance review.              | Date     |\n",
    "| Absences                    | The number of times the employee was absent from work.                    | Integer  |\n"
   ]
  },
  {
   "cell_type": "markdown",
   "metadata": {},
   "source": [
    "#### List of UI components that I could include in my dashboard. Consider what would be most useful or interesting for users.\n",
    "\n",
    "1. Dropdowns for selecting departments or employee groups\n",
    "2. Sliders for selecting salary ranges or performance scores\n",
    "3. Date pickers for filtering by join date or performance review dates\n",
    "4. Search Bar for quick lookup of specific employees by name, ID, or other attributes"
   ]
  },
  {
   "cell_type": "markdown",
   "metadata": {},
   "source": [
    "#### List of 3 possible data visualizations \n",
    "\n",
    "1. Performance vs. Salary Scatter Plot: Interactive scatter plot displaying relationship between employees' salaries and their performance scores. Filters/dropdowns could allow users to view data by department, gender, or age group\n",
    "\n",
    "2. Retention Rate Over Time: A line graph or area chart that tracks employee retention over time. Could include a dropdown to filter by department or manager, revealing how retention rates vary across different parts of the organization\n",
    "\n",
    "3. Survey Scores vs. Satisfaction Levels: A bubble chart where each bubble represents a department or team, sized by number of employees and colored by average employee satisfaction, plotted against average engagement survey scores\n"
   ]
  },
  {
   "cell_type": "markdown",
   "metadata": {},
   "source": []
  },
  {
   "cell_type": "markdown",
   "metadata": {},
   "source": []
  },
  {
   "cell_type": "code",
   "execution_count": 105,
   "metadata": {},
   "outputs": [],
   "source": [
    "# export it to a csv file to upload to github, name it 'data'\n",
    "df.to_csv('C:/Users/Student/Downloads/data.csv', index=False)"
   ]
  }
 ],
 "metadata": {
  "kernelspec": {
   "display_name": "ds4003",
   "language": "python",
   "name": "python3"
  },
  "language_info": {
   "codemirror_mode": {
    "name": "ipython",
    "version": 3
   },
   "file_extension": ".py",
   "mimetype": "text/x-python",
   "name": "python",
   "nbconvert_exporter": "python",
   "pygments_lexer": "ipython3",
   "version": "3.8.18"
  }
 },
 "nbformat": 4,
 "nbformat_minor": 2
}
